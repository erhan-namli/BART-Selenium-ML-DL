{
 "cells": [
  {
   "cell_type": "markdown",
   "metadata": {},
   "source": [
    "# <font color=\"red\">BART Project</font>"
   ]
  },
  {
   "cell_type": "markdown",
   "metadata": {},
   "source": [
    "**In this project I will answer questions and show statistics about bart trips** "
   ]
  },
  {
   "cell_type": "markdown",
   "metadata": {},
   "source": [
    "# Data Analytics Questions\n",
    "1. Which BART station is the busiest? \n",
    "2. What is the least popular BART route? \n",
    "3. When is the best time to go to SF from Berkeley if you want to find a seat? \n",
    "4. Which day of the week is the busiest? \n",
    "5. How many people take the BART late at night?"
   ]
  },
  {
   "cell_type": "markdown",
   "metadata": {},
   "source": [
    "# Data Science Questions\n",
    "1. Question A: Compute the straight line distance between every station \n",
    "2. Question B: Build a model that can predicted the number of people commuting to work by "
   ]
  },
  {
   "cell_type": "markdown",
   "metadata": {},
   "source": [
    "  \n",
    "![image](station.png)   "
   ]
  },
  {
   "cell_type": "code",
   "execution_count": 124,
   "metadata": {},
   "outputs": [
    {
     "data": {
      "text/html": [
       "<div>\n",
       "<style scoped>\n",
       "    .dataframe tbody tr th:only-of-type {\n",
       "        vertical-align: middle;\n",
       "    }\n",
       "\n",
       "    .dataframe tbody tr th {\n",
       "        vertical-align: top;\n",
       "    }\n",
       "\n",
       "    .dataframe thead th {\n",
       "        text-align: right;\n",
       "    }\n",
       "</style>\n",
       "<table border=\"1\" class=\"dataframe\">\n",
       "  <thead>\n",
       "    <tr style=\"text-align: right;\">\n",
       "      <th></th>\n",
       "      <th>Abbr</th>\n",
       "      <th>Station Name</th>\n",
       "    </tr>\n",
       "  </thead>\n",
       "  <tbody>\n",
       "    <tr>\n",
       "      <th>0</th>\n",
       "      <td>12th</td>\n",
       "      <td>12th St. Oakland City Center</td>\n",
       "    </tr>\n",
       "    <tr>\n",
       "      <th>1</th>\n",
       "      <td>16th</td>\n",
       "      <td>16th St. Mission (SF)</td>\n",
       "    </tr>\n",
       "    <tr>\n",
       "      <th>2</th>\n",
       "      <td>19th</td>\n",
       "      <td>19th St. Oakland</td>\n",
       "    </tr>\n",
       "    <tr>\n",
       "      <th>3</th>\n",
       "      <td>24th</td>\n",
       "      <td>24th St. Mission (SF)</td>\n",
       "    </tr>\n",
       "    <tr>\n",
       "      <th>4</th>\n",
       "      <td>ashb</td>\n",
       "      <td>Ashby (Berkeley)</td>\n",
       "    </tr>\n",
       "    <tr>\n",
       "      <th>5</th>\n",
       "      <td>antc</td>\n",
       "      <td>Antioch</td>\n",
       "    </tr>\n",
       "    <tr>\n",
       "      <th>6</th>\n",
       "      <td>balb</td>\n",
       "      <td>Balboa Park (SF)</td>\n",
       "    </tr>\n",
       "    <tr>\n",
       "      <th>7</th>\n",
       "      <td>bayf</td>\n",
       "      <td>Bay Fair (San Leandro)</td>\n",
       "    </tr>\n",
       "    <tr>\n",
       "      <th>8</th>\n",
       "      <td>bery</td>\n",
       "      <td>Berryessa</td>\n",
       "    </tr>\n",
       "    <tr>\n",
       "      <th>9</th>\n",
       "      <td>cast</td>\n",
       "      <td>Castro Valley</td>\n",
       "    </tr>\n",
       "    <tr>\n",
       "      <th>10</th>\n",
       "      <td>civc</td>\n",
       "      <td>Civic Center (SF)</td>\n",
       "    </tr>\n",
       "    <tr>\n",
       "      <th>11</th>\n",
       "      <td>cols</td>\n",
       "      <td>Coliseum</td>\n",
       "    </tr>\n",
       "    <tr>\n",
       "      <th>12</th>\n",
       "      <td>colm</td>\n",
       "      <td>Colma</td>\n",
       "    </tr>\n",
       "    <tr>\n",
       "      <th>13</th>\n",
       "      <td>conc</td>\n",
       "      <td>Concord</td>\n",
       "    </tr>\n",
       "    <tr>\n",
       "      <th>14</th>\n",
       "      <td>daly</td>\n",
       "      <td>Daly City</td>\n",
       "    </tr>\n",
       "    <tr>\n",
       "      <th>15</th>\n",
       "      <td>dbrk</td>\n",
       "      <td>Downtown Berkeley</td>\n",
       "    </tr>\n",
       "    <tr>\n",
       "      <th>16</th>\n",
       "      <td>dubl</td>\n",
       "      <td>Dublin/Pleasanton</td>\n",
       "    </tr>\n",
       "    <tr>\n",
       "      <th>17</th>\n",
       "      <td>deln</td>\n",
       "      <td>El Cerrito del Norte</td>\n",
       "    </tr>\n",
       "    <tr>\n",
       "      <th>18</th>\n",
       "      <td>plza</td>\n",
       "      <td>El Cerrito Plaza</td>\n",
       "    </tr>\n",
       "    <tr>\n",
       "      <th>19</th>\n",
       "      <td>embr</td>\n",
       "      <td>Embarcadero (SF)</td>\n",
       "    </tr>\n",
       "    <tr>\n",
       "      <th>20</th>\n",
       "      <td>frmt</td>\n",
       "      <td>Fremont</td>\n",
       "    </tr>\n",
       "    <tr>\n",
       "      <th>21</th>\n",
       "      <td>ftvl</td>\n",
       "      <td>Fruitvale (Oakland)</td>\n",
       "    </tr>\n",
       "    <tr>\n",
       "      <th>22</th>\n",
       "      <td>glen</td>\n",
       "      <td>Glen Park (SF)</td>\n",
       "    </tr>\n",
       "    <tr>\n",
       "      <th>23</th>\n",
       "      <td>hayw</td>\n",
       "      <td>Hayward</td>\n",
       "    </tr>\n",
       "    <tr>\n",
       "      <th>24</th>\n",
       "      <td>lafy</td>\n",
       "      <td>Lafayette</td>\n",
       "    </tr>\n",
       "    <tr>\n",
       "      <th>25</th>\n",
       "      <td>lake</td>\n",
       "      <td>Lake Merritt (Oakland)</td>\n",
       "    </tr>\n",
       "    <tr>\n",
       "      <th>26</th>\n",
       "      <td>mcar</td>\n",
       "      <td>MacArthur (Oakland)</td>\n",
       "    </tr>\n",
       "    <tr>\n",
       "      <th>27</th>\n",
       "      <td>mlbr</td>\n",
       "      <td>Millbrae</td>\n",
       "    </tr>\n",
       "    <tr>\n",
       "      <th>28</th>\n",
       "      <td>mlpt</td>\n",
       "      <td>Milpitas</td>\n",
       "    </tr>\n",
       "    <tr>\n",
       "      <th>29</th>\n",
       "      <td>mont</td>\n",
       "      <td>Montgomery St. (SF)</td>\n",
       "    </tr>\n",
       "    <tr>\n",
       "      <th>30</th>\n",
       "      <td>nbrk</td>\n",
       "      <td>North Berkeley</td>\n",
       "    </tr>\n",
       "    <tr>\n",
       "      <th>31</th>\n",
       "      <td>ncon</td>\n",
       "      <td>North Concord/Martinez</td>\n",
       "    </tr>\n",
       "    <tr>\n",
       "      <th>32</th>\n",
       "      <td>oakl</td>\n",
       "      <td>Oakland Int'l Airport</td>\n",
       "    </tr>\n",
       "    <tr>\n",
       "      <th>33</th>\n",
       "      <td>orin</td>\n",
       "      <td>Orinda</td>\n",
       "    </tr>\n",
       "    <tr>\n",
       "      <th>34</th>\n",
       "      <td>pitt</td>\n",
       "      <td>Pittsburg/Bay Point</td>\n",
       "    </tr>\n",
       "    <tr>\n",
       "      <th>35</th>\n",
       "      <td>pctr</td>\n",
       "      <td>Pittsburg Center</td>\n",
       "    </tr>\n",
       "    <tr>\n",
       "      <th>36</th>\n",
       "      <td>phil</td>\n",
       "      <td>Pleasant Hill</td>\n",
       "    </tr>\n",
       "    <tr>\n",
       "      <th>37</th>\n",
       "      <td>powl</td>\n",
       "      <td>Powell St. (SF)</td>\n",
       "    </tr>\n",
       "    <tr>\n",
       "      <th>38</th>\n",
       "      <td>rich</td>\n",
       "      <td>Richmond</td>\n",
       "    </tr>\n",
       "    <tr>\n",
       "      <th>39</th>\n",
       "      <td>rock</td>\n",
       "      <td>Rockridge (Oakland)</td>\n",
       "    </tr>\n",
       "    <tr>\n",
       "      <th>40</th>\n",
       "      <td>sbrn</td>\n",
       "      <td>San Bruno</td>\n",
       "    </tr>\n",
       "    <tr>\n",
       "      <th>41</th>\n",
       "      <td>sfia</td>\n",
       "      <td>San Francisco Int'l Airport</td>\n",
       "    </tr>\n",
       "    <tr>\n",
       "      <th>42</th>\n",
       "      <td>sanl</td>\n",
       "      <td>San Leandro</td>\n",
       "    </tr>\n",
       "    <tr>\n",
       "      <th>43</th>\n",
       "      <td>shay</td>\n",
       "      <td>South Hayward</td>\n",
       "    </tr>\n",
       "    <tr>\n",
       "      <th>44</th>\n",
       "      <td>ssan</td>\n",
       "      <td>South San Francisco</td>\n",
       "    </tr>\n",
       "    <tr>\n",
       "      <th>45</th>\n",
       "      <td>ucty</td>\n",
       "      <td>Union City</td>\n",
       "    </tr>\n",
       "    <tr>\n",
       "      <th>46</th>\n",
       "      <td>warm</td>\n",
       "      <td>Warm Springs/South Fremont</td>\n",
       "    </tr>\n",
       "    <tr>\n",
       "      <th>47</th>\n",
       "      <td>wcrk</td>\n",
       "      <td>Walnut Creek</td>\n",
       "    </tr>\n",
       "    <tr>\n",
       "      <th>48</th>\n",
       "      <td>wdub</td>\n",
       "      <td>West Dublin</td>\n",
       "    </tr>\n",
       "    <tr>\n",
       "      <th>49</th>\n",
       "      <td>woak</td>\n",
       "      <td>West Oakland</td>\n",
       "    </tr>\n",
       "  </tbody>\n",
       "</table>\n",
       "</div>"
      ],
      "text/plain": [
       "    Abbr                  Station Name\n",
       "0   12th  12th St. Oakland City Center\n",
       "1   16th         16th St. Mission (SF)\n",
       "2   19th              19th St. Oakland\n",
       "3   24th         24th St. Mission (SF)\n",
       "4   ashb              Ashby (Berkeley)\n",
       "5   antc                       Antioch\n",
       "6   balb              Balboa Park (SF)\n",
       "7   bayf        Bay Fair (San Leandro)\n",
       "8   bery                     Berryessa\n",
       "9   cast                 Castro Valley\n",
       "10  civc             Civic Center (SF)\n",
       "11  cols                      Coliseum\n",
       "12  colm                         Colma\n",
       "13  conc                       Concord\n",
       "14  daly                     Daly City\n",
       "15  dbrk             Downtown Berkeley\n",
       "16  dubl             Dublin/Pleasanton\n",
       "17  deln          El Cerrito del Norte\n",
       "18  plza              El Cerrito Plaza\n",
       "19  embr              Embarcadero (SF)\n",
       "20  frmt                       Fremont\n",
       "21  ftvl           Fruitvale (Oakland)\n",
       "22  glen                Glen Park (SF)\n",
       "23  hayw                       Hayward\n",
       "24  lafy                     Lafayette\n",
       "25  lake        Lake Merritt (Oakland)\n",
       "26  mcar           MacArthur (Oakland)\n",
       "27  mlbr                      Millbrae\n",
       "28  mlpt                      Milpitas\n",
       "29  mont           Montgomery St. (SF)\n",
       "30  nbrk                North Berkeley\n",
       "31  ncon        North Concord/Martinez\n",
       "32  oakl         Oakland Int'l Airport\n",
       "33  orin                        Orinda\n",
       "34  pitt           Pittsburg/Bay Point\n",
       "35  pctr              Pittsburg Center\n",
       "36  phil                 Pleasant Hill\n",
       "37  powl               Powell St. (SF)\n",
       "38  rich                      Richmond\n",
       "39  rock           Rockridge (Oakland)\n",
       "40  sbrn                     San Bruno\n",
       "41  sfia   San Francisco Int'l Airport\n",
       "42  sanl                   San Leandro\n",
       "43  shay                 South Hayward\n",
       "44  ssan           South San Francisco\n",
       "45  ucty                    Union City\n",
       "46  warm    Warm Springs/South Fremont\n",
       "47  wcrk                  Walnut Creek\n",
       "48  wdub                   West Dublin\n",
       "49  woak                  West Oakland"
      ]
     },
     "execution_count": 124,
     "metadata": {},
     "output_type": "execute_result"
    }
   ],
   "source": [
    "abbr = pd.read_clipboard() # http://api.bart.gov/docs/overview/abbrev.aspx\n",
    "abbr"
   ]
  },
  {
   "cell_type": "markdown",
   "metadata": {},
   "source": [
    "## Bart between any 2 stations: \n",
    "1. How would you approach that?\n",
    "2. What additional data would you need \n",
    "3. How would you want the city or Bart officials to use your data? "
   ]
  },
  {
   "cell_type": "markdown",
   "metadata": {},
   "source": [
    "# Data Setup & EDA"
   ]
  },
  {
   "cell_type": "code",
   "execution_count": 22,
   "metadata": {},
   "outputs": [],
   "source": [
    "import pandas as pd\n",
    "import numpy as np\n",
    "import seaborn as sns\n",
    "import warnings\n",
    "import matplotlib.pyplot as plt\n",
    "%matplotlib inline\n",
    "warnings.filterwarnings(\"ignore\")"
   ]
  },
  {
   "cell_type": "code",
   "execution_count": 2,
   "metadata": {},
   "outputs": [],
   "source": [
    "df2016 = pd.read_csv('Ridership/date-hour-soo-dest-2016.csv')\n",
    "df2017 = pd.read_csv('Ridership/date-hour-soo-dest-2017.csv')"
   ]
  },
  {
   "cell_type": "code",
   "execution_count": 3,
   "metadata": {},
   "outputs": [],
   "source": [
    "merged_df=pd.concat([df2016,df2017],ignore_index=True)"
   ]
  },
  {
   "cell_type": "code",
   "execution_count": 4,
   "metadata": {},
   "outputs": [
    {
     "data": {
      "text/html": [
       "<div>\n",
       "<style scoped>\n",
       "    .dataframe tbody tr th:only-of-type {\n",
       "        vertical-align: middle;\n",
       "    }\n",
       "\n",
       "    .dataframe tbody tr th {\n",
       "        vertical-align: top;\n",
       "    }\n",
       "\n",
       "    .dataframe thead th {\n",
       "        text-align: right;\n",
       "    }\n",
       "</style>\n",
       "<table border=\"1\" class=\"dataframe\">\n",
       "  <thead>\n",
       "    <tr style=\"text-align: right;\">\n",
       "      <th></th>\n",
       "      <th>Date</th>\n",
       "      <th>Hour</th>\n",
       "      <th>Origin Station</th>\n",
       "      <th>Destination Station</th>\n",
       "      <th>Trip Count</th>\n",
       "    </tr>\n",
       "  </thead>\n",
       "  <tbody>\n",
       "    <tr>\n",
       "      <th>0</th>\n",
       "      <td>2016-01-01</td>\n",
       "      <td>0</td>\n",
       "      <td>12TH</td>\n",
       "      <td>12TH</td>\n",
       "      <td>1</td>\n",
       "    </tr>\n",
       "    <tr>\n",
       "      <th>1</th>\n",
       "      <td>2016-01-01</td>\n",
       "      <td>0</td>\n",
       "      <td>12TH</td>\n",
       "      <td>16TH</td>\n",
       "      <td>1</td>\n",
       "    </tr>\n",
       "    <tr>\n",
       "      <th>2</th>\n",
       "      <td>2016-01-01</td>\n",
       "      <td>0</td>\n",
       "      <td>12TH</td>\n",
       "      <td>24TH</td>\n",
       "      <td>4</td>\n",
       "    </tr>\n",
       "    <tr>\n",
       "      <th>3</th>\n",
       "      <td>2016-01-01</td>\n",
       "      <td>0</td>\n",
       "      <td>12TH</td>\n",
       "      <td>ASHB</td>\n",
       "      <td>4</td>\n",
       "    </tr>\n",
       "    <tr>\n",
       "      <th>4</th>\n",
       "      <td>2016-01-01</td>\n",
       "      <td>0</td>\n",
       "      <td>12TH</td>\n",
       "      <td>BALB</td>\n",
       "      <td>2</td>\n",
       "    </tr>\n",
       "    <tr>\n",
       "      <th>...</th>\n",
       "      <td>...</td>\n",
       "      <td>...</td>\n",
       "      <td>...</td>\n",
       "      <td>...</td>\n",
       "      <td>...</td>\n",
       "    </tr>\n",
       "    <tr>\n",
       "      <th>19947752</th>\n",
       "      <td>2018-01-01</td>\n",
       "      <td>2</td>\n",
       "      <td>WOAK</td>\n",
       "      <td>POWL</td>\n",
       "      <td>3</td>\n",
       "    </tr>\n",
       "    <tr>\n",
       "      <th>19947753</th>\n",
       "      <td>2018-01-01</td>\n",
       "      <td>2</td>\n",
       "      <td>WOAK</td>\n",
       "      <td>RICH</td>\n",
       "      <td>1</td>\n",
       "    </tr>\n",
       "    <tr>\n",
       "      <th>19947754</th>\n",
       "      <td>2018-01-01</td>\n",
       "      <td>2</td>\n",
       "      <td>WOAK</td>\n",
       "      <td>SBRN</td>\n",
       "      <td>1</td>\n",
       "    </tr>\n",
       "    <tr>\n",
       "      <th>19947755</th>\n",
       "      <td>2018-01-01</td>\n",
       "      <td>2</td>\n",
       "      <td>WOAK</td>\n",
       "      <td>SHAY</td>\n",
       "      <td>2</td>\n",
       "    </tr>\n",
       "    <tr>\n",
       "      <th>19947756</th>\n",
       "      <td>2018-01-01</td>\n",
       "      <td>2</td>\n",
       "      <td>WOAK</td>\n",
       "      <td>WOAK</td>\n",
       "      <td>2</td>\n",
       "    </tr>\n",
       "  </tbody>\n",
       "</table>\n",
       "<p>19947757 rows × 5 columns</p>\n",
       "</div>"
      ],
      "text/plain": [
       "                Date  Hour Origin Station Destination Station  Trip Count\n",
       "0         2016-01-01     0           12TH                12TH           1\n",
       "1         2016-01-01     0           12TH                16TH           1\n",
       "2         2016-01-01     0           12TH                24TH           4\n",
       "3         2016-01-01     0           12TH                ASHB           4\n",
       "4         2016-01-01     0           12TH                BALB           2\n",
       "...              ...   ...            ...                 ...         ...\n",
       "19947752  2018-01-01     2           WOAK                POWL           3\n",
       "19947753  2018-01-01     2           WOAK                RICH           1\n",
       "19947754  2018-01-01     2           WOAK                SBRN           1\n",
       "19947755  2018-01-01     2           WOAK                SHAY           2\n",
       "19947756  2018-01-01     2           WOAK                WOAK           2\n",
       "\n",
       "[19947757 rows x 5 columns]"
      ]
     },
     "execution_count": 4,
     "metadata": {},
     "output_type": "execute_result"
    }
   ],
   "source": [
    "merged_df"
   ]
  },
  {
   "cell_type": "code",
   "execution_count": 5,
   "metadata": {},
   "outputs": [
    {
     "name": "stdout",
     "output_type": "stream",
     "text": [
      "<class 'pandas.core.frame.DataFrame'>\n",
      "RangeIndex: 19947757 entries, 0 to 19947756\n",
      "Data columns (total 5 columns):\n",
      " #   Column               Dtype \n",
      "---  ------               ----- \n",
      " 0   Date                 object\n",
      " 1   Hour                 int64 \n",
      " 2   Origin Station       object\n",
      " 3   Destination Station  object\n",
      " 4   Trip Count           int64 \n",
      "dtypes: int64(2), object(3)\n",
      "memory usage: 760.9+ MB\n"
     ]
    }
   ],
   "source": [
    "merged_df.info()"
   ]
  },
  {
   "cell_type": "markdown",
   "metadata": {},
   "source": [
    "## Adding date columns"
   ]
  },
  {
   "cell_type": "code",
   "execution_count": 6,
   "metadata": {},
   "outputs": [],
   "source": [
    "merged_df[\"Date\"]=pd.to_datetime(merged_df['Date'])\n",
    "\n",
    "merged_df[\"Day\"]=merged_df[\"Date\"].dt.dayofweek\n",
    "merged_df[\"Month\"]=merged_df[\"Date\"].dt.month\n",
    "merged_df[\"Year\"]=merged_df[\"Date\"].dt.year\n",
    "\n",
    "\n",
    "merged_df['WeekDay']=merged_df['Date'].dt.day_name()\n",
    "merged_df['Month_Name']=merged_df['Date'].dt.month_name()\n",
    "\n",
    "merged_df.drop(\"Date\",axis=1,inplace=True)"
   ]
  },
  {
   "cell_type": "code",
   "execution_count": 7,
   "metadata": {
    "scrolled": true
   },
   "outputs": [
    {
     "data": {
      "text/html": [
       "<div>\n",
       "<style scoped>\n",
       "    .dataframe tbody tr th:only-of-type {\n",
       "        vertical-align: middle;\n",
       "    }\n",
       "\n",
       "    .dataframe tbody tr th {\n",
       "        vertical-align: top;\n",
       "    }\n",
       "\n",
       "    .dataframe thead th {\n",
       "        text-align: right;\n",
       "    }\n",
       "</style>\n",
       "<table border=\"1\" class=\"dataframe\">\n",
       "  <thead>\n",
       "    <tr style=\"text-align: right;\">\n",
       "      <th></th>\n",
       "      <th>Hour</th>\n",
       "      <th>Origin Station</th>\n",
       "      <th>Destination Station</th>\n",
       "      <th>Trip Count</th>\n",
       "      <th>Day</th>\n",
       "      <th>Month</th>\n",
       "      <th>Year</th>\n",
       "      <th>WeekDay</th>\n",
       "      <th>Month_Name</th>\n",
       "    </tr>\n",
       "  </thead>\n",
       "  <tbody>\n",
       "    <tr>\n",
       "      <th>0</th>\n",
       "      <td>0</td>\n",
       "      <td>12TH</td>\n",
       "      <td>12TH</td>\n",
       "      <td>1</td>\n",
       "      <td>4</td>\n",
       "      <td>1</td>\n",
       "      <td>2016</td>\n",
       "      <td>Friday</td>\n",
       "      <td>January</td>\n",
       "    </tr>\n",
       "    <tr>\n",
       "      <th>1</th>\n",
       "      <td>0</td>\n",
       "      <td>12TH</td>\n",
       "      <td>16TH</td>\n",
       "      <td>1</td>\n",
       "      <td>4</td>\n",
       "      <td>1</td>\n",
       "      <td>2016</td>\n",
       "      <td>Friday</td>\n",
       "      <td>January</td>\n",
       "    </tr>\n",
       "    <tr>\n",
       "      <th>2</th>\n",
       "      <td>0</td>\n",
       "      <td>12TH</td>\n",
       "      <td>24TH</td>\n",
       "      <td>4</td>\n",
       "      <td>4</td>\n",
       "      <td>1</td>\n",
       "      <td>2016</td>\n",
       "      <td>Friday</td>\n",
       "      <td>January</td>\n",
       "    </tr>\n",
       "    <tr>\n",
       "      <th>3</th>\n",
       "      <td>0</td>\n",
       "      <td>12TH</td>\n",
       "      <td>ASHB</td>\n",
       "      <td>4</td>\n",
       "      <td>4</td>\n",
       "      <td>1</td>\n",
       "      <td>2016</td>\n",
       "      <td>Friday</td>\n",
       "      <td>January</td>\n",
       "    </tr>\n",
       "    <tr>\n",
       "      <th>4</th>\n",
       "      <td>0</td>\n",
       "      <td>12TH</td>\n",
       "      <td>BALB</td>\n",
       "      <td>2</td>\n",
       "      <td>4</td>\n",
       "      <td>1</td>\n",
       "      <td>2016</td>\n",
       "      <td>Friday</td>\n",
       "      <td>January</td>\n",
       "    </tr>\n",
       "    <tr>\n",
       "      <th>...</th>\n",
       "      <td>...</td>\n",
       "      <td>...</td>\n",
       "      <td>...</td>\n",
       "      <td>...</td>\n",
       "      <td>...</td>\n",
       "      <td>...</td>\n",
       "      <td>...</td>\n",
       "      <td>...</td>\n",
       "      <td>...</td>\n",
       "    </tr>\n",
       "    <tr>\n",
       "      <th>19947752</th>\n",
       "      <td>2</td>\n",
       "      <td>WOAK</td>\n",
       "      <td>POWL</td>\n",
       "      <td>3</td>\n",
       "      <td>0</td>\n",
       "      <td>1</td>\n",
       "      <td>2018</td>\n",
       "      <td>Monday</td>\n",
       "      <td>January</td>\n",
       "    </tr>\n",
       "    <tr>\n",
       "      <th>19947753</th>\n",
       "      <td>2</td>\n",
       "      <td>WOAK</td>\n",
       "      <td>RICH</td>\n",
       "      <td>1</td>\n",
       "      <td>0</td>\n",
       "      <td>1</td>\n",
       "      <td>2018</td>\n",
       "      <td>Monday</td>\n",
       "      <td>January</td>\n",
       "    </tr>\n",
       "    <tr>\n",
       "      <th>19947754</th>\n",
       "      <td>2</td>\n",
       "      <td>WOAK</td>\n",
       "      <td>SBRN</td>\n",
       "      <td>1</td>\n",
       "      <td>0</td>\n",
       "      <td>1</td>\n",
       "      <td>2018</td>\n",
       "      <td>Monday</td>\n",
       "      <td>January</td>\n",
       "    </tr>\n",
       "    <tr>\n",
       "      <th>19947755</th>\n",
       "      <td>2</td>\n",
       "      <td>WOAK</td>\n",
       "      <td>SHAY</td>\n",
       "      <td>2</td>\n",
       "      <td>0</td>\n",
       "      <td>1</td>\n",
       "      <td>2018</td>\n",
       "      <td>Monday</td>\n",
       "      <td>January</td>\n",
       "    </tr>\n",
       "    <tr>\n",
       "      <th>19947756</th>\n",
       "      <td>2</td>\n",
       "      <td>WOAK</td>\n",
       "      <td>WOAK</td>\n",
       "      <td>2</td>\n",
       "      <td>0</td>\n",
       "      <td>1</td>\n",
       "      <td>2018</td>\n",
       "      <td>Monday</td>\n",
       "      <td>January</td>\n",
       "    </tr>\n",
       "  </tbody>\n",
       "</table>\n",
       "<p>19947757 rows × 9 columns</p>\n",
       "</div>"
      ],
      "text/plain": [
       "          Hour Origin Station Destination Station  Trip Count  Day  Month  \\\n",
       "0            0           12TH                12TH           1    4      1   \n",
       "1            0           12TH                16TH           1    4      1   \n",
       "2            0           12TH                24TH           4    4      1   \n",
       "3            0           12TH                ASHB           4    4      1   \n",
       "4            0           12TH                BALB           2    4      1   \n",
       "...        ...            ...                 ...         ...  ...    ...   \n",
       "19947752     2           WOAK                POWL           3    0      1   \n",
       "19947753     2           WOAK                RICH           1    0      1   \n",
       "19947754     2           WOAK                SBRN           1    0      1   \n",
       "19947755     2           WOAK                SHAY           2    0      1   \n",
       "19947756     2           WOAK                WOAK           2    0      1   \n",
       "\n",
       "          Year WeekDay Month_Name  \n",
       "0         2016  Friday    January  \n",
       "1         2016  Friday    January  \n",
       "2         2016  Friday    January  \n",
       "3         2016  Friday    January  \n",
       "4         2016  Friday    January  \n",
       "...        ...     ...        ...  \n",
       "19947752  2018  Monday    January  \n",
       "19947753  2018  Monday    January  \n",
       "19947754  2018  Monday    January  \n",
       "19947755  2018  Monday    January  \n",
       "19947756  2018  Monday    January  \n",
       "\n",
       "[19947757 rows x 9 columns]"
      ]
     },
     "execution_count": 7,
     "metadata": {},
     "output_type": "execute_result"
    }
   ],
   "source": [
    "merged_df"
   ]
  },
  {
   "cell_type": "code",
   "execution_count": 8,
   "metadata": {},
   "outputs": [
    {
     "name": "stdout",
     "output_type": "stream",
     "text": [
      "<class 'pandas.core.frame.DataFrame'>\n",
      "RangeIndex: 19947757 entries, 0 to 19947756\n",
      "Data columns (total 9 columns):\n",
      " #   Column               Dtype \n",
      "---  ------               ----- \n",
      " 0   Hour                 int64 \n",
      " 1   Origin Station       object\n",
      " 2   Destination Station  object\n",
      " 3   Trip Count           int64 \n",
      " 4   Day                  int64 \n",
      " 5   Month                int64 \n",
      " 6   Year                 int64 \n",
      " 7   WeekDay              object\n",
      " 8   Month_Name           object\n",
      "dtypes: int64(5), object(4)\n",
      "memory usage: 1.3+ GB\n"
     ]
    }
   ],
   "source": [
    "merged_df.info()"
   ]
  },
  {
   "cell_type": "code",
   "execution_count": 9,
   "metadata": {},
   "outputs": [
    {
     "data": {
      "text/html": [
       "<div>\n",
       "<style scoped>\n",
       "    .dataframe tbody tr th:only-of-type {\n",
       "        vertical-align: middle;\n",
       "    }\n",
       "\n",
       "    .dataframe tbody tr th {\n",
       "        vertical-align: top;\n",
       "    }\n",
       "\n",
       "    .dataframe thead th {\n",
       "        text-align: right;\n",
       "    }\n",
       "</style>\n",
       "<table border=\"1\" class=\"dataframe\">\n",
       "  <thead>\n",
       "    <tr style=\"text-align: right;\">\n",
       "      <th></th>\n",
       "      <th>Hour</th>\n",
       "      <th>Trip Count</th>\n",
       "      <th>Day</th>\n",
       "      <th>Month</th>\n",
       "      <th>Year</th>\n",
       "    </tr>\n",
       "  </thead>\n",
       "  <tbody>\n",
       "    <tr>\n",
       "      <th>count</th>\n",
       "      <td>1.994776e+07</td>\n",
       "      <td>1.994776e+07</td>\n",
       "      <td>1.994776e+07</td>\n",
       "      <td>1.994776e+07</td>\n",
       "      <td>1.994776e+07</td>\n",
       "    </tr>\n",
       "    <tr>\n",
       "      <th>mean</th>\n",
       "      <td>1.363457e+01</td>\n",
       "      <td>1.258686e+01</td>\n",
       "      <td>2.847325e+00</td>\n",
       "      <td>6.524663e+00</td>\n",
       "      <td>2.016500e+03</td>\n",
       "    </tr>\n",
       "    <tr>\n",
       "      <th>std</th>\n",
       "      <td>5.668834e+00</td>\n",
       "      <td>3.304694e+01</td>\n",
       "      <td>1.929236e+00</td>\n",
       "      <td>3.431580e+00</td>\n",
       "      <td>5.002022e-01</td>\n",
       "    </tr>\n",
       "    <tr>\n",
       "      <th>min</th>\n",
       "      <td>0.000000e+00</td>\n",
       "      <td>1.000000e+00</td>\n",
       "      <td>0.000000e+00</td>\n",
       "      <td>1.000000e+00</td>\n",
       "      <td>2.016000e+03</td>\n",
       "    </tr>\n",
       "    <tr>\n",
       "      <th>25%</th>\n",
       "      <td>9.000000e+00</td>\n",
       "      <td>2.000000e+00</td>\n",
       "      <td>1.000000e+00</td>\n",
       "      <td>4.000000e+00</td>\n",
       "      <td>2.016000e+03</td>\n",
       "    </tr>\n",
       "    <tr>\n",
       "      <th>50%</th>\n",
       "      <td>1.400000e+01</td>\n",
       "      <td>4.000000e+00</td>\n",
       "      <td>3.000000e+00</td>\n",
       "      <td>7.000000e+00</td>\n",
       "      <td>2.017000e+03</td>\n",
       "    </tr>\n",
       "    <tr>\n",
       "      <th>75%</th>\n",
       "      <td>1.800000e+01</td>\n",
       "      <td>1.000000e+01</td>\n",
       "      <td>4.000000e+00</td>\n",
       "      <td>1.000000e+01</td>\n",
       "      <td>2.017000e+03</td>\n",
       "    </tr>\n",
       "    <tr>\n",
       "      <th>max</th>\n",
       "      <td>2.300000e+01</td>\n",
       "      <td>1.826000e+03</td>\n",
       "      <td>6.000000e+00</td>\n",
       "      <td>1.200000e+01</td>\n",
       "      <td>2.018000e+03</td>\n",
       "    </tr>\n",
       "  </tbody>\n",
       "</table>\n",
       "</div>"
      ],
      "text/plain": [
       "               Hour    Trip Count           Day         Month          Year\n",
       "count  1.994776e+07  1.994776e+07  1.994776e+07  1.994776e+07  1.994776e+07\n",
       "mean   1.363457e+01  1.258686e+01  2.847325e+00  6.524663e+00  2.016500e+03\n",
       "std    5.668834e+00  3.304694e+01  1.929236e+00  3.431580e+00  5.002022e-01\n",
       "min    0.000000e+00  1.000000e+00  0.000000e+00  1.000000e+00  2.016000e+03\n",
       "25%    9.000000e+00  2.000000e+00  1.000000e+00  4.000000e+00  2.016000e+03\n",
       "50%    1.400000e+01  4.000000e+00  3.000000e+00  7.000000e+00  2.017000e+03\n",
       "75%    1.800000e+01  1.000000e+01  4.000000e+00  1.000000e+01  2.017000e+03\n",
       "max    2.300000e+01  1.826000e+03  6.000000e+00  1.200000e+01  2.018000e+03"
      ]
     },
     "execution_count": 9,
     "metadata": {},
     "output_type": "execute_result"
    }
   ],
   "source": [
    "merged_df.describe()"
   ]
  },
  {
   "cell_type": "code",
   "execution_count": 10,
   "metadata": {},
   "outputs": [],
   "source": [
    "#merged_df.to_csv('Merged1617.csv')"
   ]
  },
  {
   "cell_type": "code",
   "execution_count": 220,
   "metadata": {},
   "outputs": [],
   "source": [
    "merged_df = pd.read_csv('Merged1617.csv').drop('Unnamed: 0',axis=1)"
   ]
  },
  {
   "cell_type": "markdown",
   "metadata": {},
   "source": [
    "# Data Analytic Questions"
   ]
  },
  {
   "cell_type": "code",
   "execution_count": 221,
   "metadata": {},
   "outputs": [],
   "source": [
    "drop_condition = merged_df[merged_df['Origin Station']==merged_df['Destination Station']].index # Dropping duplicates"
   ]
  },
  {
   "cell_type": "code",
   "execution_count": 222,
   "metadata": {},
   "outputs": [],
   "source": [
    "merged_df.drop(drop_condition, inplace=True)"
   ]
  },
  {
   "cell_type": "markdown",
   "metadata": {},
   "source": [
    "**I dropped columns which have same value in origin station and destination station**"
   ]
  },
  {
   "cell_type": "markdown",
   "metadata": {},
   "source": [
    "### Adding a new column consists origin station name and destination name"
   ]
  },
  {
   "cell_type": "code",
   "execution_count": 223,
   "metadata": {},
   "outputs": [],
   "source": [
    "new_data = pd.DataFrame()"
   ]
  },
  {
   "cell_type": "code",
   "execution_count": 224,
   "metadata": {},
   "outputs": [],
   "source": [
    "merged_df['origin+destination'] =merged_df['Origin Station'] + merged_df['Destination Station']"
   ]
  },
  {
   "cell_type": "code",
   "execution_count": 225,
   "metadata": {},
   "outputs": [],
   "source": [
    "new_data['Total Trip'] = merged_df.groupby('origin+destination')['Trip Count'].sum().sort_values(ascending=False)"
   ]
  },
  {
   "cell_type": "markdown",
   "metadata": {},
   "source": [
    "## 1. Which BART station is the busiest? "
   ]
  },
  {
   "cell_type": "code",
   "execution_count": 226,
   "metadata": {},
   "outputs": [
    {
     "data": {
      "text/plain": [
       "origin+destination\n",
       "POWLBALB    1609859\n",
       "BALBMONT    1491013\n",
       "BALBPOWL    1370588\n",
       "DUBLEMBR    1351861\n",
       "POWL24TH    1336889\n",
       "24THMONT    1318214\n",
       "WOAKEMBR    1193579\n",
       "24THPOWL    1156501\n",
       "PHILEMBR    1141056\n",
       "EMBRDUBL    1137424\n",
       "Name: Total Trip, dtype: int64"
      ]
     },
     "execution_count": 226,
     "metadata": {},
     "output_type": "execute_result"
    }
   ],
   "source": [
    "new_data['Total Trip'][:10]"
   ]
  },
  {
   "cell_type": "markdown",
   "metadata": {},
   "source": [
    "**RESULT : \tPowell St. TO Balboa Park**"
   ]
  },
  {
   "cell_type": "markdown",
   "metadata": {},
   "source": [
    "## 2. What is the least popular BART route? "
   ]
  },
  {
   "cell_type": "code",
   "execution_count": 227,
   "metadata": {},
   "outputs": [
    {
     "data": {
      "text/plain": [
       "origin+destination\n",
       "WARMCOLM    319\n",
       "MLBRWARM    302\n",
       "Name: Total Trip, dtype: int64"
      ]
     },
     "execution_count": 227,
     "metadata": {},
     "output_type": "execute_result"
    }
   ],
   "source": [
    "new_data['Total Trip'][-3:-1]"
   ]
  },
  {
   "cell_type": "markdown",
   "metadata": {},
   "source": [
    "**RESULT : Warm Springs/South Fremont TO Colma**"
   ]
  },
  {
   "cell_type": "markdown",
   "metadata": {},
   "source": [
    "## 3. When is the best time to go to SF from Berkeley if you want to find a seat?"
   ]
  },
  {
   "cell_type": "code",
   "execution_count": 228,
   "metadata": {},
   "outputs": [
    {
     "data": {
      "text/plain": [
       "origin+destination\n",
       "12TH16TH    189641\n",
       "12TH19TH    137022\n",
       "12TH24TH    190465\n",
       "12THASHB    183553\n",
       "12THBALB    175572\n",
       "             ...  \n",
       "WOAKSSAN     75833\n",
       "WOAKUCTY     69190\n",
       "WOAKWARM     22703\n",
       "WOAKWCRK     89856\n",
       "WOAKWDUB     67813\n",
       "Name: Hour, Length: 2070, dtype: int64"
      ]
     },
     "execution_count": 228,
     "metadata": {},
     "output_type": "execute_result"
    }
   ],
   "source": [
    "merged_df.groupby('origin+destination')['Hour'].sum()"
   ]
  },
  {
   "cell_type": "code",
   "execution_count": 229,
   "metadata": {},
   "outputs": [
    {
     "data": {
      "text/plain": [
       "<AxesSubplot:xlabel='Hour', ylabel='count'>"
      ]
     },
     "execution_count": 229,
     "metadata": {},
     "output_type": "execute_result"
    },
    {
     "data": {
      "image/png": "[encoded data removed]",
      "text/plain": [
       "<Figure size 432x288 with 1 Axes>"
      ]
     },
     "metadata": {
      "needs_background": "light"
     },
     "output_type": "display_data"
    }
   ],
   "source": [
    "sns.countplot(merged_df['Hour']) # All stations "
   ]
  },
  {
   "cell_type": "code",
   "execution_count": 230,
   "metadata": {},
   "outputs": [
    {
     "data": {
      "text/plain": [
       "<AxesSubplot:xlabel='Hour', ylabel='count'>"
      ]
     },
     "execution_count": 230,
     "metadata": {},
     "output_type": "execute_result"
    },
    {
     "data": {
      "image/png": "[encoded data removed]",
      "text/plain": [
       "<Figure size 432x288 with 1 Axes>"
      ]
     },
     "metadata": {
      "needs_background": "light"
     },
     "output_type": "display_data"
    }
   ],
   "source": [
    "sns.countplot(merged_df[merged_df['origin+destination']=='BALBASHB']['Hour'])  # San Frascico to Berkeley"
   ]
  },
  {
   "cell_type": "markdown",
   "metadata": {},
   "source": [
    "**RESULT :** Best time for going SF from Berkeley is 4 A.M"
   ]
  },
  {
   "cell_type": "markdown",
   "metadata": {},
   "source": [
    "# 4. Which day of the week is the busiest?"
   ]
  },
  {
   "cell_type": "code",
   "execution_count": 34,
   "metadata": {},
   "outputs": [
    {
     "data": {
      "text/plain": [
       "<AxesSubplot:xlabel='WeekDay', ylabel='count'>"
      ]
     },
     "execution_count": 34,
     "metadata": {},
     "output_type": "execute_result"
    },
    {
     "data": {
      "image/png": "[encoded data removed]",
      "text/plain": [
       "<Figure size 432x288 with 1 Axes>"
      ]
     },
     "metadata": {
      "needs_background": "light"
     },
     "output_type": "display_data"
    }
   ],
   "source": [
    "sns.countplot(merged_df['WeekDay'])"
   ]
  },
  {
   "cell_type": "markdown",
   "metadata": {},
   "source": [
    "# 5. How many people take the BART late at night?"
   ]
  },
  {
   "cell_type": "code",
   "execution_count": 35,
   "metadata": {},
   "outputs": [
    {
     "data": {
      "text/plain": [
       "3550972"
      ]
     },
     "execution_count": 35,
     "metadata": {},
     "output_type": "execute_result"
    }
   ],
   "source": [
    "merged_df[(merged_df['Hour']>0) & (merged_df['Hour']<6)]['Trip Count'].sum()"
   ]
  },
  {
   "cell_type": "markdown",
   "metadata": {},
   "source": [
    "**Result :** 3550972 , If we want to evaluate actual result we have to multiply this value by how many people can fit the train"
   ]
  },
  {
   "cell_type": "markdown",
   "metadata": {},
   "source": [
    "# <font color=\"red\">DATA Science Questions</font>"
   ]
  },
  {
   "cell_type": "markdown",
   "metadata": {},
   "source": [
    "**We must do some procces about scrapping data from Internet before answering questions**"
   ]
  },
  {
   "cell_type": "markdown",
   "metadata": {},
   "source": [
    "## Scrapping DATA From BART API"
   ]
  },
  {
   "cell_type": "markdown",
   "metadata": {},
   "source": [
    "**We need this data because we have to evaluate distance betweeen stations**"
   ]
  },
  {
   "cell_type": "markdown",
   "metadata": {},
   "source": [
    "## Latitude & Longitude"
   ]
  },
  {
   "cell_type": "markdown",
   "metadata": {},
   "source": [
    "**Using request to take json data from BART API**"
   ]
  },
  {
   "cell_type": "code",
   "execution_count": 174,
   "metadata": {},
   "outputs": [],
   "source": [
    "from bs4 import BeautifulSoup\n",
    "import requests\n",
    "import json"
   ]
  },
  {
   "cell_type": "code",
   "execution_count": 175,
   "metadata": {},
   "outputs": [],
   "source": [
    "url=\"http://api.bart.gov/api/stn.aspx?cmd=stns&key=MW9S-E7SL-26DU-VV8V&json=y\"\n",
    "response=requests.get(url).json()"
   ]
  },
  {
   "cell_type": "code",
   "execution_count": 176,
   "metadata": {},
   "outputs": [],
   "source": [
    "stations = response['root']['stations']['station']\n",
    "gtfs_latitude = []\n",
    "gtfs_longitude = []\n",
    "abbr = []\n",
    "for i in stations:\n",
    "    gtfs_latitude.append(i['gtfs_latitude'])\n",
    "    gtfs_longitude.append(i['gtfs_longitude'])\n",
    "    abbr.append(i['abbr'])\n",
    "\n",
    "dictionary = {'Abbreviation':abbr, 'Latitude':gtfs_latitude, 'Longitude':gtfs_longitude}\n",
    "df = pd.DataFrame(dictionary)"
   ]
  },
  {
   "cell_type": "code",
   "execution_count": 177,
   "metadata": {},
   "outputs": [
    {
     "data": {
      "text/html": [
       "<div>\n",
       "<style scoped>\n",
       "    .dataframe tbody tr th:only-of-type {\n",
       "        vertical-align: middle;\n",
       "    }\n",
       "\n",
       "    .dataframe tbody tr th {\n",
       "        vertical-align: top;\n",
       "    }\n",
       "\n",
       "    .dataframe thead th {\n",
       "        text-align: right;\n",
       "    }\n",
       "</style>\n",
       "<table border=\"1\" class=\"dataframe\">\n",
       "  <thead>\n",
       "    <tr style=\"text-align: right;\">\n",
       "      <th></th>\n",
       "      <th>Abbreviation</th>\n",
       "      <th>Latitude</th>\n",
       "      <th>Longitude</th>\n",
       "    </tr>\n",
       "  </thead>\n",
       "  <tbody>\n",
       "    <tr>\n",
       "      <th>0</th>\n",
       "      <td>12TH</td>\n",
       "      <td>37.803768</td>\n",
       "      <td>-122.271450</td>\n",
       "    </tr>\n",
       "    <tr>\n",
       "      <th>1</th>\n",
       "      <td>16TH</td>\n",
       "      <td>37.765062</td>\n",
       "      <td>-122.419694</td>\n",
       "    </tr>\n",
       "    <tr>\n",
       "      <th>2</th>\n",
       "      <td>19TH</td>\n",
       "      <td>37.808350</td>\n",
       "      <td>-122.268602</td>\n",
       "    </tr>\n",
       "    <tr>\n",
       "      <th>3</th>\n",
       "      <td>24TH</td>\n",
       "      <td>37.752470</td>\n",
       "      <td>-122.418143</td>\n",
       "    </tr>\n",
       "    <tr>\n",
       "      <th>4</th>\n",
       "      <td>ANTC</td>\n",
       "      <td>37.995388</td>\n",
       "      <td>-121.780420</td>\n",
       "    </tr>\n",
       "    <tr>\n",
       "      <th>5</th>\n",
       "      <td>ASHB</td>\n",
       "      <td>37.852803</td>\n",
       "      <td>-122.270062</td>\n",
       "    </tr>\n",
       "    <tr>\n",
       "      <th>6</th>\n",
       "      <td>BALB</td>\n",
       "      <td>37.721585</td>\n",
       "      <td>-122.447506</td>\n",
       "    </tr>\n",
       "    <tr>\n",
       "      <th>7</th>\n",
       "      <td>BAYF</td>\n",
       "      <td>37.696924</td>\n",
       "      <td>-122.126514</td>\n",
       "    </tr>\n",
       "    <tr>\n",
       "      <th>8</th>\n",
       "      <td>BERY</td>\n",
       "      <td>37.368473</td>\n",
       "      <td>-121.874681</td>\n",
       "    </tr>\n",
       "    <tr>\n",
       "      <th>9</th>\n",
       "      <td>CAST</td>\n",
       "      <td>37.690746</td>\n",
       "      <td>-122.075602</td>\n",
       "    </tr>\n",
       "    <tr>\n",
       "      <th>10</th>\n",
       "      <td>CIVC</td>\n",
       "      <td>37.779732</td>\n",
       "      <td>-122.414123</td>\n",
       "    </tr>\n",
       "    <tr>\n",
       "      <th>11</th>\n",
       "      <td>COLS</td>\n",
       "      <td>37.753661</td>\n",
       "      <td>-122.196869</td>\n",
       "    </tr>\n",
       "    <tr>\n",
       "      <th>12</th>\n",
       "      <td>COLM</td>\n",
       "      <td>37.684638</td>\n",
       "      <td>-122.466233</td>\n",
       "    </tr>\n",
       "    <tr>\n",
       "      <th>13</th>\n",
       "      <td>CONC</td>\n",
       "      <td>37.973737</td>\n",
       "      <td>-122.029095</td>\n",
       "    </tr>\n",
       "    <tr>\n",
       "      <th>14</th>\n",
       "      <td>DALY</td>\n",
       "      <td>37.706121</td>\n",
       "      <td>-122.469081</td>\n",
       "    </tr>\n",
       "    <tr>\n",
       "      <th>15</th>\n",
       "      <td>DBRK</td>\n",
       "      <td>37.870104</td>\n",
       "      <td>-122.268133</td>\n",
       "    </tr>\n",
       "    <tr>\n",
       "      <th>16</th>\n",
       "      <td>DUBL</td>\n",
       "      <td>37.701687</td>\n",
       "      <td>-121.899179</td>\n",
       "    </tr>\n",
       "    <tr>\n",
       "      <th>17</th>\n",
       "      <td>DELN</td>\n",
       "      <td>37.925086</td>\n",
       "      <td>-122.316794</td>\n",
       "    </tr>\n",
       "    <tr>\n",
       "      <th>18</th>\n",
       "      <td>PLZA</td>\n",
       "      <td>37.902632</td>\n",
       "      <td>-122.298904</td>\n",
       "    </tr>\n",
       "    <tr>\n",
       "      <th>19</th>\n",
       "      <td>EMBR</td>\n",
       "      <td>37.792874</td>\n",
       "      <td>-122.397020</td>\n",
       "    </tr>\n",
       "    <tr>\n",
       "      <th>20</th>\n",
       "      <td>FRMT</td>\n",
       "      <td>37.557465</td>\n",
       "      <td>-121.976608</td>\n",
       "    </tr>\n",
       "    <tr>\n",
       "      <th>21</th>\n",
       "      <td>FTVL</td>\n",
       "      <td>37.774836</td>\n",
       "      <td>-122.224175</td>\n",
       "    </tr>\n",
       "    <tr>\n",
       "      <th>22</th>\n",
       "      <td>GLEN</td>\n",
       "      <td>37.733064</td>\n",
       "      <td>-122.433817</td>\n",
       "    </tr>\n",
       "    <tr>\n",
       "      <th>23</th>\n",
       "      <td>HAYW</td>\n",
       "      <td>37.669723</td>\n",
       "      <td>-122.087018</td>\n",
       "    </tr>\n",
       "    <tr>\n",
       "      <th>24</th>\n",
       "      <td>LAFY</td>\n",
       "      <td>37.893176</td>\n",
       "      <td>-122.124630</td>\n",
       "    </tr>\n",
       "    <tr>\n",
       "      <th>25</th>\n",
       "      <td>LAKE</td>\n",
       "      <td>37.797027</td>\n",
       "      <td>-122.265180</td>\n",
       "    </tr>\n",
       "    <tr>\n",
       "      <th>26</th>\n",
       "      <td>MCAR</td>\n",
       "      <td>37.829065</td>\n",
       "      <td>-122.267040</td>\n",
       "    </tr>\n",
       "    <tr>\n",
       "      <th>27</th>\n",
       "      <td>MLBR</td>\n",
       "      <td>37.600271</td>\n",
       "      <td>-122.386702</td>\n",
       "    </tr>\n",
       "    <tr>\n",
       "      <th>28</th>\n",
       "      <td>MLPT</td>\n",
       "      <td>37.410277</td>\n",
       "      <td>-121.891081</td>\n",
       "    </tr>\n",
       "    <tr>\n",
       "      <th>29</th>\n",
       "      <td>MONT</td>\n",
       "      <td>37.789405</td>\n",
       "      <td>-122.401066</td>\n",
       "    </tr>\n",
       "    <tr>\n",
       "      <th>30</th>\n",
       "      <td>NBRK</td>\n",
       "      <td>37.873967</td>\n",
       "      <td>-122.283440</td>\n",
       "    </tr>\n",
       "    <tr>\n",
       "      <th>31</th>\n",
       "      <td>NCON</td>\n",
       "      <td>38.003193</td>\n",
       "      <td>-122.024653</td>\n",
       "    </tr>\n",
       "    <tr>\n",
       "      <th>32</th>\n",
       "      <td>OAKL</td>\n",
       "      <td>37.713238</td>\n",
       "      <td>-122.212191</td>\n",
       "    </tr>\n",
       "    <tr>\n",
       "      <th>33</th>\n",
       "      <td>ORIN</td>\n",
       "      <td>37.878361</td>\n",
       "      <td>-122.183791</td>\n",
       "    </tr>\n",
       "    <tr>\n",
       "      <th>34</th>\n",
       "      <td>PITT</td>\n",
       "      <td>38.018914</td>\n",
       "      <td>-121.945154</td>\n",
       "    </tr>\n",
       "    <tr>\n",
       "      <th>35</th>\n",
       "      <td>PCTR</td>\n",
       "      <td>38.016941</td>\n",
       "      <td>-121.889457</td>\n",
       "    </tr>\n",
       "    <tr>\n",
       "      <th>36</th>\n",
       "      <td>PHIL</td>\n",
       "      <td>37.928468</td>\n",
       "      <td>-122.056012</td>\n",
       "    </tr>\n",
       "    <tr>\n",
       "      <th>37</th>\n",
       "      <td>POWL</td>\n",
       "      <td>37.784471</td>\n",
       "      <td>-122.407974</td>\n",
       "    </tr>\n",
       "    <tr>\n",
       "      <th>38</th>\n",
       "      <td>RICH</td>\n",
       "      <td>37.936853</td>\n",
       "      <td>-122.353099</td>\n",
       "    </tr>\n",
       "    <tr>\n",
       "      <th>39</th>\n",
       "      <td>ROCK</td>\n",
       "      <td>37.844702</td>\n",
       "      <td>-122.251371</td>\n",
       "    </tr>\n",
       "    <tr>\n",
       "      <th>40</th>\n",
       "      <td>SBRN</td>\n",
       "      <td>37.637761</td>\n",
       "      <td>-122.416287</td>\n",
       "    </tr>\n",
       "    <tr>\n",
       "      <th>41</th>\n",
       "      <td>SFIA</td>\n",
       "      <td>37.615966</td>\n",
       "      <td>-122.392409</td>\n",
       "    </tr>\n",
       "    <tr>\n",
       "      <th>42</th>\n",
       "      <td>SANL</td>\n",
       "      <td>37.721947</td>\n",
       "      <td>-122.160844</td>\n",
       "    </tr>\n",
       "    <tr>\n",
       "      <th>43</th>\n",
       "      <td>SHAY</td>\n",
       "      <td>37.634375</td>\n",
       "      <td>-122.057189</td>\n",
       "    </tr>\n",
       "    <tr>\n",
       "      <th>44</th>\n",
       "      <td>SSAN</td>\n",
       "      <td>37.664245</td>\n",
       "      <td>-122.443960</td>\n",
       "    </tr>\n",
       "    <tr>\n",
       "      <th>45</th>\n",
       "      <td>UCTY</td>\n",
       "      <td>37.590630</td>\n",
       "      <td>-122.017388</td>\n",
       "    </tr>\n",
       "    <tr>\n",
       "      <th>46</th>\n",
       "      <td>WCRK</td>\n",
       "      <td>37.905522</td>\n",
       "      <td>-122.067527</td>\n",
       "    </tr>\n",
       "    <tr>\n",
       "      <th>47</th>\n",
       "      <td>WARM</td>\n",
       "      <td>37.502171</td>\n",
       "      <td>-121.939313</td>\n",
       "    </tr>\n",
       "    <tr>\n",
       "      <th>48</th>\n",
       "      <td>WDUB</td>\n",
       "      <td>37.699756</td>\n",
       "      <td>-121.928240</td>\n",
       "    </tr>\n",
       "    <tr>\n",
       "      <th>49</th>\n",
       "      <td>WOAK</td>\n",
       "      <td>37.804872</td>\n",
       "      <td>-122.295140</td>\n",
       "    </tr>\n",
       "  </tbody>\n",
       "</table>\n",
       "</div>"
      ],
      "text/plain": [
       "   Abbreviation   Latitude    Longitude\n",
       "0          12TH  37.803768  -122.271450\n",
       "1          16TH  37.765062  -122.419694\n",
       "2          19TH  37.808350  -122.268602\n",
       "3          24TH  37.752470  -122.418143\n",
       "4          ANTC  37.995388  -121.780420\n",
       "5          ASHB  37.852803  -122.270062\n",
       "6          BALB  37.721585  -122.447506\n",
       "7          BAYF  37.696924  -122.126514\n",
       "8          BERY  37.368473  -121.874681\n",
       "9          CAST  37.690746  -122.075602\n",
       "10         CIVC  37.779732  -122.414123\n",
       "11         COLS  37.753661  -122.196869\n",
       "12         COLM  37.684638  -122.466233\n",
       "13         CONC  37.973737  -122.029095\n",
       "14         DALY  37.706121  -122.469081\n",
       "15         DBRK  37.870104  -122.268133\n",
       "16         DUBL  37.701687  -121.899179\n",
       "17         DELN  37.925086  -122.316794\n",
       "18         PLZA  37.902632  -122.298904\n",
       "19         EMBR  37.792874  -122.397020\n",
       "20         FRMT  37.557465  -121.976608\n",
       "21         FTVL  37.774836  -122.224175\n",
       "22         GLEN  37.733064  -122.433817\n",
       "23         HAYW  37.669723  -122.087018\n",
       "24         LAFY  37.893176  -122.124630\n",
       "25         LAKE  37.797027  -122.265180\n",
       "26         MCAR  37.829065  -122.267040\n",
       "27         MLBR  37.600271  -122.386702\n",
       "28         MLPT  37.410277  -121.891081\n",
       "29         MONT  37.789405  -122.401066\n",
       "30         NBRK  37.873967  -122.283440\n",
       "31         NCON  38.003193  -122.024653\n",
       "32         OAKL  37.713238  -122.212191\n",
       "33         ORIN  37.878361  -122.183791\n",
       "34         PITT  38.018914  -121.945154\n",
       "35         PCTR  38.016941  -121.889457\n",
       "36         PHIL  37.928468  -122.056012\n",
       "37         POWL  37.784471  -122.407974\n",
       "38         RICH  37.936853  -122.353099\n",
       "39         ROCK  37.844702  -122.251371\n",
       "40         SBRN  37.637761  -122.416287\n",
       "41         SFIA  37.615966  -122.392409\n",
       "42         SANL  37.721947  -122.160844\n",
       "43         SHAY  37.634375  -122.057189\n",
       "44         SSAN  37.664245  -122.443960\n",
       "45         UCTY  37.590630  -122.017388\n",
       "46         WCRK  37.905522  -122.067527\n",
       "47         WARM  37.502171  -121.939313\n",
       "48         WDUB  37.699756  -121.928240\n",
       "49         WOAK  37.804872  -122.295140"
      ]
     },
     "execution_count": 177,
     "metadata": {},
     "output_type": "execute_result"
    }
   ],
   "source": [
    "df"
   ]
  },
  {
   "cell_type": "markdown",
   "metadata": {},
   "source": [
    "# Evaluate Distance Between Stations"
   ]
  },
  {
   "cell_type": "markdown",
   "metadata": {},
   "source": [
    "**We have to use selenium in this section**"
   ]
  },
  {
   "cell_type": "markdown",
   "metadata": {},
   "source": [
    "## Subcombinations of routes"
   ]
  },
  {
   "cell_type": "markdown",
   "metadata": {},
   "source": [
    "**Yes you can ask me why did you find subcombinations of routes, because we have to find every distance between stations and you may realize if we evalute the distance of 12TH to 16 TH there is no needed to evaluate vice-versa**"
   ]
  },
  {
   "cell_type": "code",
   "execution_count": 178,
   "metadata": {},
   "outputs": [],
   "source": [
    "import itertools"
   ]
  },
  {
   "cell_type": "code",
   "execution_count": 179,
   "metadata": {},
   "outputs": [
    {
     "data": {
      "text/plain": [
       "0       ([12TH, 37.803768, -122.271450], [16TH, 37.765...\n",
       "1       ([12TH, 37.803768, -122.271450], [19TH, 37.808...\n",
       "2       ([12TH, 37.803768, -122.271450], [24TH, 37.752...\n",
       "3       ([12TH, 37.803768, -122.271450], [ANTC, 37.995...\n",
       "4       ([12TH, 37.803768, -122.271450], [ASHB, 37.852...\n",
       "                              ...                        \n",
       "2445    ([WOAK, 37.804872, -122.295140], [SSAN, 37.664...\n",
       "2446    ([WOAK, 37.804872, -122.295140], [UCTY, 37.590...\n",
       "2447    ([WOAK, 37.804872, -122.295140], [WCRK, 37.905...\n",
       "2448    ([WOAK, 37.804872, -122.295140], [WARM, 37.502...\n",
       "2449    ([WOAK, 37.804872, -122.295140], [WDUB, 37.699...\n",
       "Name: permutations, Length: 2450, dtype: object"
      ]
     },
     "execution_count": 179,
     "metadata": {},
     "output_type": "execute_result"
    }
   ],
   "source": [
    "routes = pd.DataFrame()\n",
    "\n",
    "routes['permutations']=list(itertools.permutations(df.values,2))\n",
    "routes['permutations']"
   ]
  },
  {
   "cell_type": "code",
   "execution_count": 180,
   "metadata": {},
   "outputs": [],
   "source": [
    "liste=list()\n",
    "for i in routes['permutations']:\n",
    "    liste.append(i[0][0]+i[1][0])\n",
    "\n",
    "routes['route'] = liste"
   ]
  },
  {
   "cell_type": "code",
   "execution_count": 181,
   "metadata": {},
   "outputs": [
    {
     "data": {
      "text/plain": [
       "0       12TH16TH\n",
       "1       12TH19TH\n",
       "2       12TH24TH\n",
       "3       12THANTC\n",
       "4       12THASHB\n",
       "          ...   \n",
       "2445    WOAKSSAN\n",
       "2446    WOAKUCTY\n",
       "2447    WOAKWCRK\n",
       "2448    WOAKWARM\n",
       "2449    WOAKWDUB\n",
       "Name: route, Length: 2450, dtype: object"
      ]
     },
     "execution_count": 181,
     "metadata": {},
     "output_type": "execute_result"
    }
   ],
   "source": [
    "routes['route']"
   ]
  },
  {
   "cell_type": "code",
   "execution_count": 182,
   "metadata": {},
   "outputs": [
    {
     "data": {
      "text/html": [
       "<div>\n",
       "<style scoped>\n",
       "    .dataframe tbody tr th:only-of-type {\n",
       "        vertical-align: middle;\n",
       "    }\n",
       "\n",
       "    .dataframe tbody tr th {\n",
       "        vertical-align: top;\n",
       "    }\n",
       "\n",
       "    .dataframe thead th {\n",
       "        text-align: right;\n",
       "    }\n",
       "</style>\n",
       "<table border=\"1\" class=\"dataframe\">\n",
       "  <thead>\n",
       "    <tr style=\"text-align: right;\">\n",
       "      <th></th>\n",
       "      <th>permutations</th>\n",
       "      <th>route</th>\n",
       "    </tr>\n",
       "  </thead>\n",
       "  <tbody>\n",
       "    <tr>\n",
       "      <th>0</th>\n",
       "      <td>([12TH, 37.803768, -122.271450], [16TH, 37.765...</td>\n",
       "      <td>12TH16TH</td>\n",
       "    </tr>\n",
       "    <tr>\n",
       "      <th>1</th>\n",
       "      <td>([12TH, 37.803768, -122.271450], [19TH, 37.808...</td>\n",
       "      <td>12TH19TH</td>\n",
       "    </tr>\n",
       "    <tr>\n",
       "      <th>2</th>\n",
       "      <td>([12TH, 37.803768, -122.271450], [24TH, 37.752...</td>\n",
       "      <td>12TH24TH</td>\n",
       "    </tr>\n",
       "    <tr>\n",
       "      <th>3</th>\n",
       "      <td>([12TH, 37.803768, -122.271450], [ANTC, 37.995...</td>\n",
       "      <td>12THANTC</td>\n",
       "    </tr>\n",
       "    <tr>\n",
       "      <th>4</th>\n",
       "      <td>([12TH, 37.803768, -122.271450], [ASHB, 37.852...</td>\n",
       "      <td>12THASHB</td>\n",
       "    </tr>\n",
       "    <tr>\n",
       "      <th>...</th>\n",
       "      <td>...</td>\n",
       "      <td>...</td>\n",
       "    </tr>\n",
       "    <tr>\n",
       "      <th>2445</th>\n",
       "      <td>([WOAK, 37.804872, -122.295140], [SSAN, 37.664...</td>\n",
       "      <td>WOAKSSAN</td>\n",
       "    </tr>\n",
       "    <tr>\n",
       "      <th>2446</th>\n",
       "      <td>([WOAK, 37.804872, -122.295140], [UCTY, 37.590...</td>\n",
       "      <td>WOAKUCTY</td>\n",
       "    </tr>\n",
       "    <tr>\n",
       "      <th>2447</th>\n",
       "      <td>([WOAK, 37.804872, -122.295140], [WCRK, 37.905...</td>\n",
       "      <td>WOAKWCRK</td>\n",
       "    </tr>\n",
       "    <tr>\n",
       "      <th>2448</th>\n",
       "      <td>([WOAK, 37.804872, -122.295140], [WARM, 37.502...</td>\n",
       "      <td>WOAKWARM</td>\n",
       "    </tr>\n",
       "    <tr>\n",
       "      <th>2449</th>\n",
       "      <td>([WOAK, 37.804872, -122.295140], [WDUB, 37.699...</td>\n",
       "      <td>WOAKWDUB</td>\n",
       "    </tr>\n",
       "  </tbody>\n",
       "</table>\n",
       "<p>2450 rows × 2 columns</p>\n",
       "</div>"
      ],
      "text/plain": [
       "                                           permutations     route\n",
       "0     ([12TH, 37.803768, -122.271450], [16TH, 37.765...  12TH16TH\n",
       "1     ([12TH, 37.803768, -122.271450], [19TH, 37.808...  12TH19TH\n",
       "2     ([12TH, 37.803768, -122.271450], [24TH, 37.752...  12TH24TH\n",
       "3     ([12TH, 37.803768, -122.271450], [ANTC, 37.995...  12THANTC\n",
       "4     ([12TH, 37.803768, -122.271450], [ASHB, 37.852...  12THASHB\n",
       "...                                                 ...       ...\n",
       "2445  ([WOAK, 37.804872, -122.295140], [SSAN, 37.664...  WOAKSSAN\n",
       "2446  ([WOAK, 37.804872, -122.295140], [UCTY, 37.590...  WOAKUCTY\n",
       "2447  ([WOAK, 37.804872, -122.295140], [WCRK, 37.905...  WOAKWCRK\n",
       "2448  ([WOAK, 37.804872, -122.295140], [WARM, 37.502...  WOAKWARM\n",
       "2449  ([WOAK, 37.804872, -122.295140], [WDUB, 37.699...  WOAKWDUB\n",
       "\n",
       "[2450 rows x 2 columns]"
      ]
     },
     "execution_count": 182,
     "metadata": {},
     "output_type": "execute_result"
    }
   ],
   "source": [
    "routes"
   ]
  },
  {
   "cell_type": "markdown",
   "metadata": {},
   "source": [
    "# Evaluating Distance between stations by using website"
   ]
  },
  {
   "cell_type": "code",
   "execution_count": null,
   "metadata": {},
   "outputs": [],
   "source": [
    "from selenium import webdriver\n",
    "from selenium.webdriver.common.keys import Keys\n",
    "import time"
   ]
  },
  {
   "cell_type": "code",
   "execution_count": 50,
   "metadata": {},
   "outputs": [],
   "source": [
    "driver = webdriver.Chrome(r\"C:\\Users\\MONSTERHAN\\Documents\\DataScience-Homeworks\\BART Project\\Selenium\\chromedriver.exe\")\n",
    "driver.get(\"https://www.tarimziraat.com/tarimsal_harita_uygulamalari/haritadan_iki_nokta_arasi_olcumu.php\")\n",
    "time.sleep(2)\n",
    "\n",
    "distance= list()\n",
    "\n",
    "for i in routes['permutations']:\n",
    "    \n",
    "    enlem1=driver.find_element_by_xpath('//*[@id=\"enlem1\"]').clear()\n",
    "    enlem2=driver.find_element_by_xpath('//*[@id=\"enlem2\"]').clear()\n",
    "    boylam1=driver.find_element_by_xpath('//*[@id=\"boylam1\"]').clear()\n",
    "    boylam2=driver.find_element_by_xpath('//*[@id=\"boylam2\"]').clear()\n",
    "    \n",
    "    enlem1=driver.find_element_by_xpath('//*[@id=\"enlem1\"]').send_keys(i[0][1])\n",
    "    enlem2=driver.find_element_by_xpath('//*[@id=\"enlem2\"]').send_keys(i[1][1])\n",
    "    boylam1=driver.find_element_by_xpath('//*[@id=\"boylam1\"]').send_keys(i[0][2])\n",
    "    boylam2=driver.find_element_by_xpath('//*[@id=\"boylam2\"]').send_keys(i[1][2])\n",
    "    buton1=driver.find_element_by_xpath('//*[@id=\"buton2\"]')\n",
    "    buton1.click()\n",
    "    sonuc = driver.find_element_by_xpath('/html/body/div[3]/div[1]/div[5]/b')\n",
    "    distance.append(sonuc.text)\n",
    "routes['distances'] = distance    "
   ]
  },
  {
   "cell_type": "code",
   "execution_count": 51,
   "metadata": {},
   "outputs": [
    {
     "data": {
      "text/html": [
       "<div>\n",
       "<style scoped>\n",
       "    .dataframe tbody tr th:only-of-type {\n",
       "        vertical-align: middle;\n",
       "    }\n",
       "\n",
       "    .dataframe tbody tr th {\n",
       "        vertical-align: top;\n",
       "    }\n",
       "\n",
       "    .dataframe thead th {\n",
       "        text-align: right;\n",
       "    }\n",
       "</style>\n",
       "<table border=\"1\" class=\"dataframe\">\n",
       "  <thead>\n",
       "    <tr style=\"text-align: right;\">\n",
       "      <th></th>\n",
       "      <th>permutations</th>\n",
       "      <th>route</th>\n",
       "      <th>distances</th>\n",
       "    </tr>\n",
       "  </thead>\n",
       "  <tbody>\n",
       "    <tr>\n",
       "      <th>0</th>\n",
       "      <td>([12TH, 37.803768, -122.271450], [16TH, 37.765...</td>\n",
       "      <td>12TH16TH</td>\n",
       "      <td>13.736</td>\n",
       "    </tr>\n",
       "    <tr>\n",
       "      <th>1</th>\n",
       "      <td>([12TH, 37.803768, -122.271450], [19TH, 37.808...</td>\n",
       "      <td>12TH19TH</td>\n",
       "      <td>568</td>\n",
       "    </tr>\n",
       "    <tr>\n",
       "      <th>2</th>\n",
       "      <td>([12TH, 37.803768, -122.271450], [24TH, 37.752...</td>\n",
       "      <td>12TH24TH</td>\n",
       "      <td>14.114</td>\n",
       "    </tr>\n",
       "    <tr>\n",
       "      <th>3</th>\n",
       "      <td>([12TH, 37.803768, -122.271450], [ANTC, 37.995...</td>\n",
       "      <td>12THANTC</td>\n",
       "      <td>48.119</td>\n",
       "    </tr>\n",
       "    <tr>\n",
       "      <th>4</th>\n",
       "      <td>([12TH, 37.803768, -122.271450], [ASHB, 37.852...</td>\n",
       "      <td>12THASHB</td>\n",
       "      <td>5.460</td>\n",
       "    </tr>\n",
       "    <tr>\n",
       "      <th>...</th>\n",
       "      <td>...</td>\n",
       "      <td>...</td>\n",
       "      <td>...</td>\n",
       "    </tr>\n",
       "    <tr>\n",
       "      <th>2445</th>\n",
       "      <td>([WOAK, 37.804872, -122.295140], [SSAN, 37.664...</td>\n",
       "      <td>WOAKSSAN</td>\n",
       "      <td>20.414</td>\n",
       "    </tr>\n",
       "    <tr>\n",
       "      <th>2446</th>\n",
       "      <td>([WOAK, 37.804872, -122.295140], [UCTY, 37.590...</td>\n",
       "      <td>WOAKUCTY</td>\n",
       "      <td>34.166</td>\n",
       "    </tr>\n",
       "    <tr>\n",
       "      <th>2447</th>\n",
       "      <td>([WOAK, 37.804872, -122.295140], [WCRK, 37.905...</td>\n",
       "      <td>WOAKWCRK</td>\n",
       "      <td>22.930</td>\n",
       "    </tr>\n",
       "    <tr>\n",
       "      <th>2448</th>\n",
       "      <td>([WOAK, 37.804872, -122.295140], [WARM, 37.502...</td>\n",
       "      <td>WOAKWARM</td>\n",
       "      <td>46.032</td>\n",
       "    </tr>\n",
       "    <tr>\n",
       "      <th>2449</th>\n",
       "      <td>([WOAK, 37.804872, -122.295140], [WDUB, 37.699...</td>\n",
       "      <td>WOAKWDUB</td>\n",
       "      <td>34.348</td>\n",
       "    </tr>\n",
       "  </tbody>\n",
       "</table>\n",
       "<p>2450 rows × 3 columns</p>\n",
       "</div>"
      ],
      "text/plain": [
       "                                           permutations     route distances\n",
       "0     ([12TH, 37.803768, -122.271450], [16TH, 37.765...  12TH16TH    13.736\n",
       "1     ([12TH, 37.803768, -122.271450], [19TH, 37.808...  12TH19TH       568\n",
       "2     ([12TH, 37.803768, -122.271450], [24TH, 37.752...  12TH24TH    14.114\n",
       "3     ([12TH, 37.803768, -122.271450], [ANTC, 37.995...  12THANTC    48.119\n",
       "4     ([12TH, 37.803768, -122.271450], [ASHB, 37.852...  12THASHB     5.460\n",
       "...                                                 ...       ...       ...\n",
       "2445  ([WOAK, 37.804872, -122.295140], [SSAN, 37.664...  WOAKSSAN    20.414\n",
       "2446  ([WOAK, 37.804872, -122.295140], [UCTY, 37.590...  WOAKUCTY    34.166\n",
       "2447  ([WOAK, 37.804872, -122.295140], [WCRK, 37.905...  WOAKWCRK    22.930\n",
       "2448  ([WOAK, 37.804872, -122.295140], [WARM, 37.502...  WOAKWARM    46.032\n",
       "2449  ([WOAK, 37.804872, -122.295140], [WDUB, 37.699...  WOAKWDUB    34.348\n",
       "\n",
       "[2450 rows x 3 columns]"
      ]
     },
     "execution_count": 51,
     "metadata": {},
     "output_type": "execute_result"
    }
   ],
   "source": [
    "routes"
   ]
  },
  {
   "cell_type": "code",
   "execution_count": 52,
   "metadata": {},
   "outputs": [],
   "source": [
    "#routes.to_csv('2450Routes.csv')"
   ]
  },
  {
   "cell_type": "code",
   "execution_count": 184,
   "metadata": {},
   "outputs": [],
   "source": [
    "routes = pd.read_csv('2450Routes.csv').drop('Unnamed: 0',axis=1)"
   ]
  },
  {
   "cell_type": "code",
   "execution_count": 185,
   "metadata": {},
   "outputs": [
    {
     "data": {
      "text/html": [
       "<div>\n",
       "<style scoped>\n",
       "    .dataframe tbody tr th:only-of-type {\n",
       "        vertical-align: middle;\n",
       "    }\n",
       "\n",
       "    .dataframe tbody tr th {\n",
       "        vertical-align: top;\n",
       "    }\n",
       "\n",
       "    .dataframe thead th {\n",
       "        text-align: right;\n",
       "    }\n",
       "</style>\n",
       "<table border=\"1\" class=\"dataframe\">\n",
       "  <thead>\n",
       "    <tr style=\"text-align: right;\">\n",
       "      <th></th>\n",
       "      <th>permutations</th>\n",
       "      <th>route</th>\n",
       "      <th>distances</th>\n",
       "    </tr>\n",
       "  </thead>\n",
       "  <tbody>\n",
       "    <tr>\n",
       "      <th>0</th>\n",
       "      <td>(array(['12TH', '37.803768', '-122.271450'], d...</td>\n",
       "      <td>12TH16TH</td>\n",
       "      <td>13.736</td>\n",
       "    </tr>\n",
       "    <tr>\n",
       "      <th>1</th>\n",
       "      <td>(array(['12TH', '37.803768', '-122.271450'], d...</td>\n",
       "      <td>12TH19TH</td>\n",
       "      <td>568.000</td>\n",
       "    </tr>\n",
       "    <tr>\n",
       "      <th>2</th>\n",
       "      <td>(array(['12TH', '37.803768', '-122.271450'], d...</td>\n",
       "      <td>12TH24TH</td>\n",
       "      <td>14.114</td>\n",
       "    </tr>\n",
       "    <tr>\n",
       "      <th>3</th>\n",
       "      <td>(array(['12TH', '37.803768', '-122.271450'], d...</td>\n",
       "      <td>12THANTC</td>\n",
       "      <td>48.119</td>\n",
       "    </tr>\n",
       "    <tr>\n",
       "      <th>4</th>\n",
       "      <td>(array(['12TH', '37.803768', '-122.271450'], d...</td>\n",
       "      <td>12THASHB</td>\n",
       "      <td>5.460</td>\n",
       "    </tr>\n",
       "    <tr>\n",
       "      <th>...</th>\n",
       "      <td>...</td>\n",
       "      <td>...</td>\n",
       "      <td>...</td>\n",
       "    </tr>\n",
       "    <tr>\n",
       "      <th>2445</th>\n",
       "      <td>(array(['WOAK', '37.804872', '-122.295140'], d...</td>\n",
       "      <td>WOAKSSAN</td>\n",
       "      <td>20.414</td>\n",
       "    </tr>\n",
       "    <tr>\n",
       "      <th>2446</th>\n",
       "      <td>(array(['WOAK', '37.804872', '-122.295140'], d...</td>\n",
       "      <td>WOAKUCTY</td>\n",
       "      <td>34.166</td>\n",
       "    </tr>\n",
       "    <tr>\n",
       "      <th>2447</th>\n",
       "      <td>(array(['WOAK', '37.804872', '-122.295140'], d...</td>\n",
       "      <td>WOAKWCRK</td>\n",
       "      <td>22.930</td>\n",
       "    </tr>\n",
       "    <tr>\n",
       "      <th>2448</th>\n",
       "      <td>(array(['WOAK', '37.804872', '-122.295140'], d...</td>\n",
       "      <td>WOAKWARM</td>\n",
       "      <td>46.032</td>\n",
       "    </tr>\n",
       "    <tr>\n",
       "      <th>2449</th>\n",
       "      <td>(array(['WOAK', '37.804872', '-122.295140'], d...</td>\n",
       "      <td>WOAKWDUB</td>\n",
       "      <td>34.348</td>\n",
       "    </tr>\n",
       "  </tbody>\n",
       "</table>\n",
       "<p>2450 rows × 3 columns</p>\n",
       "</div>"
      ],
      "text/plain": [
       "                                           permutations     route  distances\n",
       "0     (array(['12TH', '37.803768', '-122.271450'], d...  12TH16TH     13.736\n",
       "1     (array(['12TH', '37.803768', '-122.271450'], d...  12TH19TH    568.000\n",
       "2     (array(['12TH', '37.803768', '-122.271450'], d...  12TH24TH     14.114\n",
       "3     (array(['12TH', '37.803768', '-122.271450'], d...  12THANTC     48.119\n",
       "4     (array(['12TH', '37.803768', '-122.271450'], d...  12THASHB      5.460\n",
       "...                                                 ...       ...        ...\n",
       "2445  (array(['WOAK', '37.804872', '-122.295140'], d...  WOAKSSAN     20.414\n",
       "2446  (array(['WOAK', '37.804872', '-122.295140'], d...  WOAKUCTY     34.166\n",
       "2447  (array(['WOAK', '37.804872', '-122.295140'], d...  WOAKWCRK     22.930\n",
       "2448  (array(['WOAK', '37.804872', '-122.295140'], d...  WOAKWARM     46.032\n",
       "2449  (array(['WOAK', '37.804872', '-122.295140'], d...  WOAKWDUB     34.348\n",
       "\n",
       "[2450 rows x 3 columns]"
      ]
     },
     "execution_count": 185,
     "metadata": {},
     "output_type": "execute_result"
    }
   ],
   "source": [
    "routes"
   ]
  },
  {
   "cell_type": "markdown",
   "metadata": {},
   "source": [
    "# Question A: Compute the straight line distance between every station "
   ]
  },
  {
   "cell_type": "code",
   "execution_count": 186,
   "metadata": {},
   "outputs": [
    {
     "data": {
      "text/html": [
       "<div>\n",
       "<style scoped>\n",
       "    .dataframe tbody tr th:only-of-type {\n",
       "        vertical-align: middle;\n",
       "    }\n",
       "\n",
       "    .dataframe tbody tr th {\n",
       "        vertical-align: top;\n",
       "    }\n",
       "\n",
       "    .dataframe thead th {\n",
       "        text-align: right;\n",
       "    }\n",
       "</style>\n",
       "<table border=\"1\" class=\"dataframe\">\n",
       "  <thead>\n",
       "    <tr style=\"text-align: right;\">\n",
       "      <th></th>\n",
       "      <th>route</th>\n",
       "      <th>distances</th>\n",
       "    </tr>\n",
       "  </thead>\n",
       "  <tbody>\n",
       "    <tr>\n",
       "      <th>0</th>\n",
       "      <td>12TH16TH</td>\n",
       "      <td>13.736</td>\n",
       "    </tr>\n",
       "    <tr>\n",
       "      <th>1</th>\n",
       "      <td>12TH19TH</td>\n",
       "      <td>568.000</td>\n",
       "    </tr>\n",
       "    <tr>\n",
       "      <th>2</th>\n",
       "      <td>12TH24TH</td>\n",
       "      <td>14.114</td>\n",
       "    </tr>\n",
       "    <tr>\n",
       "      <th>3</th>\n",
       "      <td>12THANTC</td>\n",
       "      <td>48.119</td>\n",
       "    </tr>\n",
       "    <tr>\n",
       "      <th>4</th>\n",
       "      <td>12THASHB</td>\n",
       "      <td>5.460</td>\n",
       "    </tr>\n",
       "    <tr>\n",
       "      <th>...</th>\n",
       "      <td>...</td>\n",
       "      <td>...</td>\n",
       "    </tr>\n",
       "    <tr>\n",
       "      <th>2445</th>\n",
       "      <td>WOAKSSAN</td>\n",
       "      <td>20.414</td>\n",
       "    </tr>\n",
       "    <tr>\n",
       "      <th>2446</th>\n",
       "      <td>WOAKUCTY</td>\n",
       "      <td>34.166</td>\n",
       "    </tr>\n",
       "    <tr>\n",
       "      <th>2447</th>\n",
       "      <td>WOAKWCRK</td>\n",
       "      <td>22.930</td>\n",
       "    </tr>\n",
       "    <tr>\n",
       "      <th>2448</th>\n",
       "      <td>WOAKWARM</td>\n",
       "      <td>46.032</td>\n",
       "    </tr>\n",
       "    <tr>\n",
       "      <th>2449</th>\n",
       "      <td>WOAKWDUB</td>\n",
       "      <td>34.348</td>\n",
       "    </tr>\n",
       "  </tbody>\n",
       "</table>\n",
       "<p>2450 rows × 2 columns</p>\n",
       "</div>"
      ],
      "text/plain": [
       "         route  distances\n",
       "0     12TH16TH     13.736\n",
       "1     12TH19TH    568.000\n",
       "2     12TH24TH     14.114\n",
       "3     12THANTC     48.119\n",
       "4     12THASHB      5.460\n",
       "...        ...        ...\n",
       "2445  WOAKSSAN     20.414\n",
       "2446  WOAKUCTY     34.166\n",
       "2447  WOAKWCRK     22.930\n",
       "2448  WOAKWARM     46.032\n",
       "2449  WOAKWDUB     34.348\n",
       "\n",
       "[2450 rows x 2 columns]"
      ]
     },
     "execution_count": 186,
     "metadata": {},
     "output_type": "execute_result"
    }
   ],
   "source": [
    "routes[['route','distances']] # distances written in meters"
   ]
  },
  {
   "cell_type": "markdown",
   "metadata": {},
   "source": [
    "# Question B: Build a model that can predicted the number of people commuting to work by Bart between any 2 stations: "
   ]
  },
  {
   "cell_type": "markdown",
   "metadata": {},
   "source": [
    "**Well, I have no idea how many people fits to BART train, I will assume 200 to one BART train.**"
   ]
  },
  {
   "cell_type": "code",
   "execution_count": 187,
   "metadata": {},
   "outputs": [
    {
     "data": {
      "text/html": [
       "<div>\n",
       "<style scoped>\n",
       "    .dataframe tbody tr th:only-of-type {\n",
       "        vertical-align: middle;\n",
       "    }\n",
       "\n",
       "    .dataframe tbody tr th {\n",
       "        vertical-align: top;\n",
       "    }\n",
       "\n",
       "    .dataframe thead th {\n",
       "        text-align: right;\n",
       "    }\n",
       "</style>\n",
       "<table border=\"1\" class=\"dataframe\">\n",
       "  <thead>\n",
       "    <tr style=\"text-align: right;\">\n",
       "      <th></th>\n",
       "      <th>Hour</th>\n",
       "      <th>Origin Station</th>\n",
       "      <th>Destination Station</th>\n",
       "      <th>Trip Count</th>\n",
       "      <th>Day</th>\n",
       "      <th>Month</th>\n",
       "      <th>Year</th>\n",
       "      <th>WeekDay</th>\n",
       "      <th>Month_Name</th>\n",
       "      <th>origin+destination</th>\n",
       "    </tr>\n",
       "  </thead>\n",
       "  <tbody>\n",
       "    <tr>\n",
       "      <th>1</th>\n",
       "      <td>0</td>\n",
       "      <td>12TH</td>\n",
       "      <td>16TH</td>\n",
       "      <td>1</td>\n",
       "      <td>4</td>\n",
       "      <td>1</td>\n",
       "      <td>2016</td>\n",
       "      <td>Friday</td>\n",
       "      <td>January</td>\n",
       "      <td>12TH16TH</td>\n",
       "    </tr>\n",
       "    <tr>\n",
       "      <th>2</th>\n",
       "      <td>0</td>\n",
       "      <td>12TH</td>\n",
       "      <td>24TH</td>\n",
       "      <td>4</td>\n",
       "      <td>4</td>\n",
       "      <td>1</td>\n",
       "      <td>2016</td>\n",
       "      <td>Friday</td>\n",
       "      <td>January</td>\n",
       "      <td>12TH24TH</td>\n",
       "    </tr>\n",
       "    <tr>\n",
       "      <th>3</th>\n",
       "      <td>0</td>\n",
       "      <td>12TH</td>\n",
       "      <td>ASHB</td>\n",
       "      <td>4</td>\n",
       "      <td>4</td>\n",
       "      <td>1</td>\n",
       "      <td>2016</td>\n",
       "      <td>Friday</td>\n",
       "      <td>January</td>\n",
       "      <td>12THASHB</td>\n",
       "    </tr>\n",
       "    <tr>\n",
       "      <th>4</th>\n",
       "      <td>0</td>\n",
       "      <td>12TH</td>\n",
       "      <td>BALB</td>\n",
       "      <td>2</td>\n",
       "      <td>4</td>\n",
       "      <td>1</td>\n",
       "      <td>2016</td>\n",
       "      <td>Friday</td>\n",
       "      <td>January</td>\n",
       "      <td>12THBALB</td>\n",
       "    </tr>\n",
       "    <tr>\n",
       "      <th>5</th>\n",
       "      <td>0</td>\n",
       "      <td>12TH</td>\n",
       "      <td>BAYF</td>\n",
       "      <td>2</td>\n",
       "      <td>4</td>\n",
       "      <td>1</td>\n",
       "      <td>2016</td>\n",
       "      <td>Friday</td>\n",
       "      <td>January</td>\n",
       "      <td>12THBAYF</td>\n",
       "    </tr>\n",
       "    <tr>\n",
       "      <th>...</th>\n",
       "      <td>...</td>\n",
       "      <td>...</td>\n",
       "      <td>...</td>\n",
       "      <td>...</td>\n",
       "      <td>...</td>\n",
       "      <td>...</td>\n",
       "      <td>...</td>\n",
       "      <td>...</td>\n",
       "      <td>...</td>\n",
       "      <td>...</td>\n",
       "    </tr>\n",
       "    <tr>\n",
       "      <th>19947751</th>\n",
       "      <td>2</td>\n",
       "      <td>WOAK</td>\n",
       "      <td>PITT</td>\n",
       "      <td>1</td>\n",
       "      <td>0</td>\n",
       "      <td>1</td>\n",
       "      <td>2018</td>\n",
       "      <td>Monday</td>\n",
       "      <td>January</td>\n",
       "      <td>WOAKPITT</td>\n",
       "    </tr>\n",
       "    <tr>\n",
       "      <th>19947752</th>\n",
       "      <td>2</td>\n",
       "      <td>WOAK</td>\n",
       "      <td>POWL</td>\n",
       "      <td>3</td>\n",
       "      <td>0</td>\n",
       "      <td>1</td>\n",
       "      <td>2018</td>\n",
       "      <td>Monday</td>\n",
       "      <td>January</td>\n",
       "      <td>WOAKPOWL</td>\n",
       "    </tr>\n",
       "    <tr>\n",
       "      <th>19947753</th>\n",
       "      <td>2</td>\n",
       "      <td>WOAK</td>\n",
       "      <td>RICH</td>\n",
       "      <td>1</td>\n",
       "      <td>0</td>\n",
       "      <td>1</td>\n",
       "      <td>2018</td>\n",
       "      <td>Monday</td>\n",
       "      <td>January</td>\n",
       "      <td>WOAKRICH</td>\n",
       "    </tr>\n",
       "    <tr>\n",
       "      <th>19947754</th>\n",
       "      <td>2</td>\n",
       "      <td>WOAK</td>\n",
       "      <td>SBRN</td>\n",
       "      <td>1</td>\n",
       "      <td>0</td>\n",
       "      <td>1</td>\n",
       "      <td>2018</td>\n",
       "      <td>Monday</td>\n",
       "      <td>January</td>\n",
       "      <td>WOAKSBRN</td>\n",
       "    </tr>\n",
       "    <tr>\n",
       "      <th>19947755</th>\n",
       "      <td>2</td>\n",
       "      <td>WOAK</td>\n",
       "      <td>SHAY</td>\n",
       "      <td>2</td>\n",
       "      <td>0</td>\n",
       "      <td>1</td>\n",
       "      <td>2018</td>\n",
       "      <td>Monday</td>\n",
       "      <td>January</td>\n",
       "      <td>WOAKSHAY</td>\n",
       "    </tr>\n",
       "  </tbody>\n",
       "</table>\n",
       "<p>19531642 rows × 10 columns</p>\n",
       "</div>"
      ],
      "text/plain": [
       "          Hour Origin Station Destination Station  Trip Count  Day  Month  \\\n",
       "1            0           12TH                16TH           1    4      1   \n",
       "2            0           12TH                24TH           4    4      1   \n",
       "3            0           12TH                ASHB           4    4      1   \n",
       "4            0           12TH                BALB           2    4      1   \n",
       "5            0           12TH                BAYF           2    4      1   \n",
       "...        ...            ...                 ...         ...  ...    ...   \n",
       "19947751     2           WOAK                PITT           1    0      1   \n",
       "19947752     2           WOAK                POWL           3    0      1   \n",
       "19947753     2           WOAK                RICH           1    0      1   \n",
       "19947754     2           WOAK                SBRN           1    0      1   \n",
       "19947755     2           WOAK                SHAY           2    0      1   \n",
       "\n",
       "          Year WeekDay Month_Name origin+destination  \n",
       "1         2016  Friday    January           12TH16TH  \n",
       "2         2016  Friday    January           12TH24TH  \n",
       "3         2016  Friday    January           12THASHB  \n",
       "4         2016  Friday    January           12THBALB  \n",
       "5         2016  Friday    January           12THBAYF  \n",
       "...        ...     ...        ...                ...  \n",
       "19947751  2018  Monday    January           WOAKPITT  \n",
       "19947752  2018  Monday    January           WOAKPOWL  \n",
       "19947753  2018  Monday    January           WOAKRICH  \n",
       "19947754  2018  Monday    January           WOAKSBRN  \n",
       "19947755  2018  Monday    January           WOAKSHAY  \n",
       "\n",
       "[19531642 rows x 10 columns]"
      ]
     },
     "execution_count": 187,
     "metadata": {},
     "output_type": "execute_result"
    }
   ],
   "source": [
    "merged_df"
   ]
  },
  {
   "cell_type": "code",
   "execution_count": 188,
   "metadata": {},
   "outputs": [],
   "source": [
    "ML = pd.DataFrame()"
   ]
  },
  {
   "cell_type": "code",
   "execution_count": 189,
   "metadata": {},
   "outputs": [],
   "source": [
    "ML = merged_df.groupby('origin+destination')['Trip Count'].sum()"
   ]
  },
  {
   "cell_type": "code",
   "execution_count": 190,
   "metadata": {},
   "outputs": [],
   "source": [
    "ML = ML.reset_index()"
   ]
  },
  {
   "cell_type": "code",
   "execution_count": 191,
   "metadata": {},
   "outputs": [],
   "source": [
    "ML['MaximumHour'] = list(merged_df.groupby('origin+destination')['Hour'].median())"
   ]
  },
  {
   "cell_type": "code",
   "execution_count": 205,
   "metadata": {},
   "outputs": [
    {
     "data": {
      "text/html": [
       "<div>\n",
       "<style scoped>\n",
       "    .dataframe tbody tr th:only-of-type {\n",
       "        vertical-align: middle;\n",
       "    }\n",
       "\n",
       "    .dataframe tbody tr th {\n",
       "        vertical-align: top;\n",
       "    }\n",
       "\n",
       "    .dataframe thead th {\n",
       "        text-align: right;\n",
       "    }\n",
       "</style>\n",
       "<table border=\"1\" class=\"dataframe\">\n",
       "  <thead>\n",
       "    <tr style=\"text-align: right;\">\n",
       "      <th></th>\n",
       "      <th>origin+destination</th>\n",
       "      <th>Trip Count</th>\n",
       "      <th>MaximumHour</th>\n",
       "      <th>distances</th>\n",
       "    </tr>\n",
       "  </thead>\n",
       "  <tbody>\n",
       "    <tr>\n",
       "      <th>0</th>\n",
       "      <td>12TH16TH</td>\n",
       "      <td>193527</td>\n",
       "      <td>14.0</td>\n",
       "      <td>NaN</td>\n",
       "    </tr>\n",
       "    <tr>\n",
       "      <th>1</th>\n",
       "      <td>12TH19TH</td>\n",
       "      <td>39235</td>\n",
       "      <td>14.0</td>\n",
       "      <td>NaN</td>\n",
       "    </tr>\n",
       "    <tr>\n",
       "      <th>2</th>\n",
       "      <td>12TH24TH</td>\n",
       "      <td>170715</td>\n",
       "      <td>14.0</td>\n",
       "      <td>NaN</td>\n",
       "    </tr>\n",
       "    <tr>\n",
       "      <th>3</th>\n",
       "      <td>12THASHB</td>\n",
       "      <td>156710</td>\n",
       "      <td>14.0</td>\n",
       "      <td>NaN</td>\n",
       "    </tr>\n",
       "    <tr>\n",
       "      <th>4</th>\n",
       "      <td>12THBALB</td>\n",
       "      <td>85111</td>\n",
       "      <td>14.0</td>\n",
       "      <td>NaN</td>\n",
       "    </tr>\n",
       "    <tr>\n",
       "      <th>...</th>\n",
       "      <td>...</td>\n",
       "      <td>...</td>\n",
       "      <td>...</td>\n",
       "      <td>...</td>\n",
       "    </tr>\n",
       "    <tr>\n",
       "      <th>2065</th>\n",
       "      <td>WOAKSSAN</td>\n",
       "      <td>10567</td>\n",
       "      <td>13.0</td>\n",
       "      <td>NaN</td>\n",
       "    </tr>\n",
       "    <tr>\n",
       "      <th>2066</th>\n",
       "      <td>WOAKUCTY</td>\n",
       "      <td>7583</td>\n",
       "      <td>14.0</td>\n",
       "      <td>NaN</td>\n",
       "    </tr>\n",
       "    <tr>\n",
       "      <th>2067</th>\n",
       "      <td>WOAKWARM</td>\n",
       "      <td>2768</td>\n",
       "      <td>12.0</td>\n",
       "      <td>NaN</td>\n",
       "    </tr>\n",
       "    <tr>\n",
       "      <th>2068</th>\n",
       "      <td>WOAKWCRK</td>\n",
       "      <td>12526</td>\n",
       "      <td>13.0</td>\n",
       "      <td>NaN</td>\n",
       "    </tr>\n",
       "    <tr>\n",
       "      <th>2069</th>\n",
       "      <td>WOAKWDUB</td>\n",
       "      <td>7228</td>\n",
       "      <td>14.0</td>\n",
       "      <td>NaN</td>\n",
       "    </tr>\n",
       "  </tbody>\n",
       "</table>\n",
       "<p>2070 rows × 4 columns</p>\n",
       "</div>"
      ],
      "text/plain": [
       "     origin+destination  Trip Count  MaximumHour distances\n",
       "0              12TH16TH      193527         14.0       NaN\n",
       "1              12TH19TH       39235         14.0       NaN\n",
       "2              12TH24TH      170715         14.0       NaN\n",
       "3              12THASHB      156710         14.0       NaN\n",
       "4              12THBALB       85111         14.0       NaN\n",
       "...                 ...         ...          ...       ...\n",
       "2065           WOAKSSAN       10567         13.0       NaN\n",
       "2066           WOAKUCTY        7583         14.0       NaN\n",
       "2067           WOAKWARM        2768         12.0       NaN\n",
       "2068           WOAKWCRK       12526         13.0       NaN\n",
       "2069           WOAKWDUB        7228         14.0       NaN\n",
       "\n",
       "[2070 rows x 4 columns]"
      ]
     },
     "execution_count": 205,
     "metadata": {},
     "output_type": "execute_result"
    }
   ],
   "source": [
    "ML"
   ]
  },
  {
   "cell_type": "code",
   "execution_count": 206,
   "metadata": {
    "scrolled": false
   },
   "outputs": [],
   "source": [
    "#routes['route']"
   ]
  },
  {
   "cell_type": "code",
   "execution_count": 207,
   "metadata": {},
   "outputs": [],
   "source": [
    "#routes[routes['route']=='12TH16TH']['distances']"
   ]
  },
  {
   "cell_type": "code",
   "execution_count": 208,
   "metadata": {},
   "outputs": [],
   "source": [
    "templist =list()\n",
    "for i in ML['origin+destination']:\n",
    "    templist.append(routes[routes['route']==i]['distances'])"
   ]
  },
  {
   "cell_type": "code",
   "execution_count": 209,
   "metadata": {},
   "outputs": [],
   "source": [
    "ML['distances'] = templist"
   ]
  },
  {
   "cell_type": "code",
   "execution_count": 210,
   "metadata": {},
   "outputs": [
    {
     "data": {
      "text/plain": [
       "0          0    13.736\n",
       "Name: distances, dtype: float64\n",
       "1           1    568.0\n",
       "Name: distances, dtype: float64\n",
       "2          2    14.114\n",
       "Name: distances, dtype: float64\n",
       "3            4    5.46\n",
       "Name: distances, dtype: float64\n",
       "4          5    17.993\n",
       "Name: distances, dtype: float64\n",
       "                             ...                      \n",
       "2065    2445    20.414\n",
       "Name: distances, dtype: float64\n",
       "2066    2446    34.166\n",
       "Name: distances, dtype: float64\n",
       "2067    2448    46.032\n",
       "Name: distances, dtype: float64\n",
       "2068     2447    22.93\n",
       "Name: distances, dtype: float64\n",
       "2069    2449    34.348\n",
       "Name: distances, dtype: float64\n",
       "Name: distances, Length: 2070, dtype: object"
      ]
     },
     "execution_count": 210,
     "metadata": {},
     "output_type": "execute_result"
    }
   ],
   "source": [
    "ML['distances']"
   ]
  },
  {
   "cell_type": "code",
   "execution_count": 211,
   "metadata": {},
   "outputs": [],
   "source": [
    "newlist = [str(x)[5:14].strip().replace(\".\",\"\") for x in ML['distances']]\n",
    "newlist\n",
    "ML['distances'] = newlist\n",
    "#L['distances'] = ML['distances'].str.extract('(\\d+)')"
   ]
  },
  {
   "cell_type": "code",
   "execution_count": 212,
   "metadata": {},
   "outputs": [],
   "source": [
    "ML['distances'] = ML['distances'].str.extract('(\\d+)')"
   ]
  },
  {
   "cell_type": "code",
   "execution_count": 213,
   "metadata": {},
   "outputs": [],
   "source": [
    "ML['distances'] = ML['distances'].astype('int64')"
   ]
  },
  {
   "cell_type": "code",
   "execution_count": 214,
   "metadata": {},
   "outputs": [
    {
     "data": {
      "text/html": [
       "<div>\n",
       "<style scoped>\n",
       "    .dataframe tbody tr th:only-of-type {\n",
       "        vertical-align: middle;\n",
       "    }\n",
       "\n",
       "    .dataframe tbody tr th {\n",
       "        vertical-align: top;\n",
       "    }\n",
       "\n",
       "    .dataframe thead th {\n",
       "        text-align: right;\n",
       "    }\n",
       "</style>\n",
       "<table border=\"1\" class=\"dataframe\">\n",
       "  <thead>\n",
       "    <tr style=\"text-align: right;\">\n",
       "      <th></th>\n",
       "      <th>origin+destination</th>\n",
       "      <th>Trip Count</th>\n",
       "      <th>MaximumHour</th>\n",
       "      <th>distances</th>\n",
       "    </tr>\n",
       "  </thead>\n",
       "  <tbody>\n",
       "    <tr>\n",
       "      <th>0</th>\n",
       "      <td>12TH16TH</td>\n",
       "      <td>193527</td>\n",
       "      <td>14.0</td>\n",
       "      <td>13736</td>\n",
       "    </tr>\n",
       "    <tr>\n",
       "      <th>1</th>\n",
       "      <td>12TH19TH</td>\n",
       "      <td>39235</td>\n",
       "      <td>14.0</td>\n",
       "      <td>5680</td>\n",
       "    </tr>\n",
       "    <tr>\n",
       "      <th>2</th>\n",
       "      <td>12TH24TH</td>\n",
       "      <td>170715</td>\n",
       "      <td>14.0</td>\n",
       "      <td>14114</td>\n",
       "    </tr>\n",
       "    <tr>\n",
       "      <th>3</th>\n",
       "      <td>12THASHB</td>\n",
       "      <td>156710</td>\n",
       "      <td>14.0</td>\n",
       "      <td>546</td>\n",
       "    </tr>\n",
       "    <tr>\n",
       "      <th>4</th>\n",
       "      <td>12THBALB</td>\n",
       "      <td>85111</td>\n",
       "      <td>14.0</td>\n",
       "      <td>17993</td>\n",
       "    </tr>\n",
       "    <tr>\n",
       "      <th>...</th>\n",
       "      <td>...</td>\n",
       "      <td>...</td>\n",
       "      <td>...</td>\n",
       "      <td>...</td>\n",
       "    </tr>\n",
       "    <tr>\n",
       "      <th>2065</th>\n",
       "      <td>WOAKSSAN</td>\n",
       "      <td>10567</td>\n",
       "      <td>13.0</td>\n",
       "      <td>20414</td>\n",
       "    </tr>\n",
       "    <tr>\n",
       "      <th>2066</th>\n",
       "      <td>WOAKUCTY</td>\n",
       "      <td>7583</td>\n",
       "      <td>14.0</td>\n",
       "      <td>34166</td>\n",
       "    </tr>\n",
       "    <tr>\n",
       "      <th>2067</th>\n",
       "      <td>WOAKWARM</td>\n",
       "      <td>2768</td>\n",
       "      <td>12.0</td>\n",
       "      <td>46032</td>\n",
       "    </tr>\n",
       "    <tr>\n",
       "      <th>2068</th>\n",
       "      <td>WOAKWCRK</td>\n",
       "      <td>12526</td>\n",
       "      <td>13.0</td>\n",
       "      <td>2293</td>\n",
       "    </tr>\n",
       "    <tr>\n",
       "      <th>2069</th>\n",
       "      <td>WOAKWDUB</td>\n",
       "      <td>7228</td>\n",
       "      <td>14.0</td>\n",
       "      <td>34348</td>\n",
       "    </tr>\n",
       "  </tbody>\n",
       "</table>\n",
       "<p>2070 rows × 4 columns</p>\n",
       "</div>"
      ],
      "text/plain": [
       "     origin+destination  Trip Count  MaximumHour  distances\n",
       "0              12TH16TH      193527         14.0      13736\n",
       "1              12TH19TH       39235         14.0       5680\n",
       "2              12TH24TH      170715         14.0      14114\n",
       "3              12THASHB      156710         14.0        546\n",
       "4              12THBALB       85111         14.0      17993\n",
       "...                 ...         ...          ...        ...\n",
       "2065           WOAKSSAN       10567         13.0      20414\n",
       "2066           WOAKUCTY        7583         14.0      34166\n",
       "2067           WOAKWARM        2768         12.0      46032\n",
       "2068           WOAKWCRK       12526         13.0       2293\n",
       "2069           WOAKWDUB        7228         14.0      34348\n",
       "\n",
       "[2070 rows x 4 columns]"
      ]
     },
     "execution_count": 214,
     "metadata": {},
     "output_type": "execute_result"
    }
   ],
   "source": [
    "ML"
   ]
  },
  {
   "cell_type": "markdown",
   "metadata": {},
   "source": [
    "## Data Preparing for Modelling"
   ]
  },
  {
   "cell_type": "code",
   "execution_count": 215,
   "metadata": {},
   "outputs": [],
   "source": [
    "X=ML[['MaximumHour','Trip Count','distances']]"
   ]
  },
  {
   "cell_type": "code",
   "execution_count": 216,
   "metadata": {},
   "outputs": [
    {
     "data": {
      "text/html": [
       "<div>\n",
       "<style scoped>\n",
       "    .dataframe tbody tr th:only-of-type {\n",
       "        vertical-align: middle;\n",
       "    }\n",
       "\n",
       "    .dataframe tbody tr th {\n",
       "        vertical-align: top;\n",
       "    }\n",
       "\n",
       "    .dataframe thead th {\n",
       "        text-align: right;\n",
       "    }\n",
       "</style>\n",
       "<table border=\"1\" class=\"dataframe\">\n",
       "  <thead>\n",
       "    <tr style=\"text-align: right;\">\n",
       "      <th></th>\n",
       "      <th>MaximumHour</th>\n",
       "      <th>Trip Count</th>\n",
       "      <th>distances</th>\n",
       "    </tr>\n",
       "  </thead>\n",
       "  <tbody>\n",
       "    <tr>\n",
       "      <th>0</th>\n",
       "      <td>14.0</td>\n",
       "      <td>193527</td>\n",
       "      <td>13736</td>\n",
       "    </tr>\n",
       "    <tr>\n",
       "      <th>1</th>\n",
       "      <td>14.0</td>\n",
       "      <td>39235</td>\n",
       "      <td>5680</td>\n",
       "    </tr>\n",
       "    <tr>\n",
       "      <th>2</th>\n",
       "      <td>14.0</td>\n",
       "      <td>170715</td>\n",
       "      <td>14114</td>\n",
       "    </tr>\n",
       "    <tr>\n",
       "      <th>3</th>\n",
       "      <td>14.0</td>\n",
       "      <td>156710</td>\n",
       "      <td>546</td>\n",
       "    </tr>\n",
       "    <tr>\n",
       "      <th>4</th>\n",
       "      <td>14.0</td>\n",
       "      <td>85111</td>\n",
       "      <td>17993</td>\n",
       "    </tr>\n",
       "    <tr>\n",
       "      <th>...</th>\n",
       "      <td>...</td>\n",
       "      <td>...</td>\n",
       "      <td>...</td>\n",
       "    </tr>\n",
       "    <tr>\n",
       "      <th>2065</th>\n",
       "      <td>13.0</td>\n",
       "      <td>10567</td>\n",
       "      <td>20414</td>\n",
       "    </tr>\n",
       "    <tr>\n",
       "      <th>2066</th>\n",
       "      <td>14.0</td>\n",
       "      <td>7583</td>\n",
       "      <td>34166</td>\n",
       "    </tr>\n",
       "    <tr>\n",
       "      <th>2067</th>\n",
       "      <td>12.0</td>\n",
       "      <td>2768</td>\n",
       "      <td>46032</td>\n",
       "    </tr>\n",
       "    <tr>\n",
       "      <th>2068</th>\n",
       "      <td>13.0</td>\n",
       "      <td>12526</td>\n",
       "      <td>2293</td>\n",
       "    </tr>\n",
       "    <tr>\n",
       "      <th>2069</th>\n",
       "      <td>14.0</td>\n",
       "      <td>7228</td>\n",
       "      <td>34348</td>\n",
       "    </tr>\n",
       "  </tbody>\n",
       "</table>\n",
       "<p>2070 rows × 3 columns</p>\n",
       "</div>"
      ],
      "text/plain": [
       "      MaximumHour  Trip Count  distances\n",
       "0            14.0      193527      13736\n",
       "1            14.0       39235       5680\n",
       "2            14.0      170715      14114\n",
       "3            14.0      156710        546\n",
       "4            14.0       85111      17993\n",
       "...           ...         ...        ...\n",
       "2065         13.0       10567      20414\n",
       "2066         14.0        7583      34166\n",
       "2067         12.0        2768      46032\n",
       "2068         13.0       12526       2293\n",
       "2069         14.0        7228      34348\n",
       "\n",
       "[2070 rows x 3 columns]"
      ]
     },
     "execution_count": 216,
     "metadata": {},
     "output_type": "execute_result"
    }
   ],
   "source": [
    "X"
   ]
  },
  {
   "cell_type": "code",
   "execution_count": 217,
   "metadata": {},
   "outputs": [
    {
     "name": "stdout",
     "output_type": "stream",
     "text": [
      "<class 'pandas.core.frame.DataFrame'>\n",
      "RangeIndex: 2070 entries, 0 to 2069\n",
      "Data columns (total 3 columns):\n",
      " #   Column       Non-Null Count  Dtype  \n",
      "---  ------       --------------  -----  \n",
      " 0   MaximumHour  2070 non-null   float64\n",
      " 1   Trip Count   2070 non-null   int64  \n",
      " 2   distances    2070 non-null   int64  \n",
      "dtypes: float64(1), int64(2)\n",
      "memory usage: 48.6 KB\n"
     ]
    }
   ],
   "source": [
    "X.info()"
   ]
  },
  {
   "cell_type": "code",
   "execution_count": 218,
   "metadata": {},
   "outputs": [],
   "source": [
    "y = ML['Trip Count']"
   ]
  },
  {
   "cell_type": "markdown",
   "metadata": {},
   "source": [
    "## Modelling"
   ]
  },
  {
   "cell_type": "code",
   "execution_count": 219,
   "metadata": {},
   "outputs": [],
   "source": [
    "from sklearn.model_selection import train_test_split\n",
    "from sklearn.linear_model import LinearRegression\n",
    "from sklearn.linear_model import ElasticNet\n",
    "from sklearn.tree import ExtraTreeRegressor\n",
    "from sklearn.ensemble import GradientBoostingRegressor\n",
    "from xgboost import XGBRegressor\n",
    "from sklearn.metrics import mean_absolute_error\n",
    "from sklearn.linear_model import Ridge,Lasso\n",
    "from sklearn.metrics import mean_squared_error,r2_score"
   ]
  },
  {
   "cell_type": "code",
   "execution_count": 159,
   "metadata": {},
   "outputs": [],
   "source": [
    "def algo_test(x, y):\n",
    "    \n",
    "    L = LinearRegression()\n",
    "    E = ElasticNet()\n",
    "    R = Ridge()\n",
    "    Lass = Lasso()\n",
    "    ETR = ExtraTreeRegressor()\n",
    "    GBR = GradientBoostingRegressor()\n",
    "    XGBC = XGBRegressor()\n",
    "    \n",
    "    X_train, X_test, y_train, y_test = train_test_split(X, y, test_size = 0.2, random_state=13)\n",
    "    \n",
    "    algos = [L, E, R, Lass, ETR, GBR, XGBC]\n",
    "    algo_names= ['Linear', 'ElasticNet', 'Ridge', 'Lasso', 'Extra Tree', 'Gradient Boosting', 'XGBRegressor']\n",
    "    r_squared = []\n",
    "    rmse = []\n",
    "    mae = []\n",
    "    \n",
    "    result = pd.DataFrame(columns = ['R_Squared', 'RMSE', 'MAE'],\n",
    "                           index = algo_names)\n",
    "    \n",
    "    for algo in algos:\n",
    "        algo.fit(X_train, y_train)\n",
    "        algo.predict(X_test)\n",
    "        \n",
    "        r_squared.append(r2_score(y_test, algo.predict(X_test)))\n",
    "        rmse.append(mean_squared_error(y_test, algo.predict(X_test))**.5)\n",
    "        mae.append(mean_absolute_error(y_test, algo.predict(X_test)))\n",
    "        \n",
    "    result.R_Squared = r_squared\n",
    "    result.RMSE = rmse\n",
    "    result.MAE = mae\n",
    "    \n",
    "    return result.sort_values('R_Squared', ascending=False)"
   ]
  },
  {
   "cell_type": "code",
   "execution_count": 160,
   "metadata": {},
   "outputs": [
    {
     "name": "stdout",
     "output_type": "stream",
     "text": [
      "<class 'pandas.core.frame.DataFrame'>\n",
      "RangeIndex: 2070 entries, 0 to 2069\n",
      "Data columns (total 3 columns):\n",
      " #   Column       Non-Null Count  Dtype  \n",
      "---  ------       --------------  -----  \n",
      " 0   MaximumHour  2070 non-null   float64\n",
      " 1   Trip Count   2070 non-null   int64  \n",
      " 2   distances    2070 non-null   int64  \n",
      "dtypes: float64(1), int64(2)\n",
      "memory usage: 48.6 KB\n"
     ]
    }
   ],
   "source": [
    "X.info()"
   ]
  },
  {
   "cell_type": "code",
   "execution_count": 161,
   "metadata": {},
   "outputs": [
    {
     "data": {
      "text/html": [
       "<div>\n",
       "<style scoped>\n",
       "    .dataframe tbody tr th:only-of-type {\n",
       "        vertical-align: middle;\n",
       "    }\n",
       "\n",
       "    .dataframe tbody tr th {\n",
       "        vertical-align: top;\n",
       "    }\n",
       "\n",
       "    .dataframe thead th {\n",
       "        text-align: right;\n",
       "    }\n",
       "</style>\n",
       "<table border=\"1\" class=\"dataframe\">\n",
       "  <thead>\n",
       "    <tr style=\"text-align: right;\">\n",
       "      <th></th>\n",
       "      <th>R_Squared</th>\n",
       "      <th>RMSE</th>\n",
       "      <th>MAE</th>\n",
       "    </tr>\n",
       "  </thead>\n",
       "  <tbody>\n",
       "    <tr>\n",
       "      <th>Linear</th>\n",
       "      <td>1.000000</td>\n",
       "      <td>1.628901e-10</td>\n",
       "      <td>9.302714e-11</td>\n",
       "    </tr>\n",
       "    <tr>\n",
       "      <th>ElasticNet</th>\n",
       "      <td>1.000000</td>\n",
       "      <td>1.315446e-03</td>\n",
       "      <td>8.049985e-04</td>\n",
       "    </tr>\n",
       "    <tr>\n",
       "      <th>Ridge</th>\n",
       "      <td>1.000000</td>\n",
       "      <td>3.784918e-09</td>\n",
       "      <td>2.321768e-09</td>\n",
       "    </tr>\n",
       "    <tr>\n",
       "      <th>Lasso</th>\n",
       "      <td>1.000000</td>\n",
       "      <td>3.719781e-02</td>\n",
       "      <td>2.276379e-02</td>\n",
       "    </tr>\n",
       "    <tr>\n",
       "      <th>Gradient Boosting</th>\n",
       "      <td>0.999189</td>\n",
       "      <td>6.641831e+03</td>\n",
       "      <td>1.482497e+03</td>\n",
       "    </tr>\n",
       "    <tr>\n",
       "      <th>Extra Tree</th>\n",
       "      <td>0.999179</td>\n",
       "      <td>6.680809e+03</td>\n",
       "      <td>1.189630e+03</td>\n",
       "    </tr>\n",
       "    <tr>\n",
       "      <th>XGBRegressor</th>\n",
       "      <td>0.999164</td>\n",
       "      <td>6.743137e+03</td>\n",
       "      <td>1.292378e+03</td>\n",
       "    </tr>\n",
       "  </tbody>\n",
       "</table>\n",
       "</div>"
      ],
      "text/plain": [
       "                   R_Squared          RMSE           MAE\n",
       "Linear              1.000000  1.628901e-10  9.302714e-11\n",
       "ElasticNet          1.000000  1.315446e-03  8.049985e-04\n",
       "Ridge               1.000000  3.784918e-09  2.321768e-09\n",
       "Lasso               1.000000  3.719781e-02  2.276379e-02\n",
       "Gradient Boosting   0.999189  6.641831e+03  1.482497e+03\n",
       "Extra Tree          0.999179  6.680809e+03  1.189630e+03\n",
       "XGBRegressor        0.999164  6.743137e+03  1.292378e+03"
      ]
     },
     "execution_count": 161,
     "metadata": {},
     "output_type": "execute_result"
    }
   ],
   "source": [
    "algo_test(X, y)"
   ]
  },
  {
   "cell_type": "markdown",
   "metadata": {},
   "source": [
    "## Creating a Neural Network Model "
   ]
  },
  {
   "cell_type": "code",
   "execution_count": 162,
   "metadata": {},
   "outputs": [],
   "source": [
    "from tensorflow.keras.models import Sequential\n",
    "from tensorflow.keras.layers import Dense, Activation\n",
    "from tensorflow.keras.optimizers import Adam"
   ]
  },
  {
   "cell_type": "code",
   "execution_count": 163,
   "metadata": {},
   "outputs": [],
   "source": [
    "from sklearn.preprocessing import MinMaxScaler\n",
    "scaler= MinMaxScaler()"
   ]
  },
  {
   "cell_type": "code",
   "execution_count": 164,
   "metadata": {},
   "outputs": [],
   "source": [
    "X=scaler.fit_transform(X) # Scaling to between 0 - 1\n"
   ]
  },
  {
   "cell_type": "code",
   "execution_count": 165,
   "metadata": {},
   "outputs": [
    {
     "data": {
      "text/html": [
       "<div>\n",
       "<style scoped>\n",
       "    .dataframe tbody tr th:only-of-type {\n",
       "        vertical-align: middle;\n",
       "    }\n",
       "\n",
       "    .dataframe tbody tr th {\n",
       "        vertical-align: top;\n",
       "    }\n",
       "\n",
       "    .dataframe thead th {\n",
       "        text-align: right;\n",
       "    }\n",
       "</style>\n",
       "<table border=\"1\" class=\"dataframe\">\n",
       "  <thead>\n",
       "    <tr style=\"text-align: right;\">\n",
       "      <th></th>\n",
       "      <th>0</th>\n",
       "      <th>1</th>\n",
       "      <th>2</th>\n",
       "    </tr>\n",
       "  </thead>\n",
       "  <tbody>\n",
       "    <tr>\n",
       "      <th>0</th>\n",
       "      <td>0.6</td>\n",
       "      <td>0.120067</td>\n",
       "      <td>0.225656</td>\n",
       "    </tr>\n",
       "    <tr>\n",
       "      <th>1</th>\n",
       "      <td>0.6</td>\n",
       "      <td>0.024209</td>\n",
       "      <td>0.092721</td>\n",
       "    </tr>\n",
       "    <tr>\n",
       "      <th>2</th>\n",
       "      <td>0.6</td>\n",
       "      <td>0.105895</td>\n",
       "      <td>0.231894</td>\n",
       "    </tr>\n",
       "    <tr>\n",
       "      <th>3</th>\n",
       "      <td>0.6</td>\n",
       "      <td>0.097194</td>\n",
       "      <td>0.008003</td>\n",
       "    </tr>\n",
       "    <tr>\n",
       "      <th>4</th>\n",
       "      <td>0.6</td>\n",
       "      <td>0.052711</td>\n",
       "      <td>0.295903</td>\n",
       "    </tr>\n",
       "    <tr>\n",
       "      <th>...</th>\n",
       "      <td>...</td>\n",
       "      <td>...</td>\n",
       "      <td>...</td>\n",
       "    </tr>\n",
       "    <tr>\n",
       "      <th>2065</th>\n",
       "      <td>0.5</td>\n",
       "      <td>0.006399</td>\n",
       "      <td>0.335853</td>\n",
       "    </tr>\n",
       "    <tr>\n",
       "      <th>2066</th>\n",
       "      <td>0.6</td>\n",
       "      <td>0.004545</td>\n",
       "      <td>0.562779</td>\n",
       "    </tr>\n",
       "    <tr>\n",
       "      <th>2067</th>\n",
       "      <td>0.4</td>\n",
       "      <td>0.001553</td>\n",
       "      <td>0.758585</td>\n",
       "    </tr>\n",
       "    <tr>\n",
       "      <th>2068</th>\n",
       "      <td>0.5</td>\n",
       "      <td>0.007616</td>\n",
       "      <td>0.036831</td>\n",
       "    </tr>\n",
       "    <tr>\n",
       "      <th>2069</th>\n",
       "      <td>0.6</td>\n",
       "      <td>0.004324</td>\n",
       "      <td>0.565783</td>\n",
       "    </tr>\n",
       "  </tbody>\n",
       "</table>\n",
       "<p>2070 rows × 3 columns</p>\n",
       "</div>"
      ],
      "text/plain": [
       "        0         1         2\n",
       "0     0.6  0.120067  0.225656\n",
       "1     0.6  0.024209  0.092721\n",
       "2     0.6  0.105895  0.231894\n",
       "3     0.6  0.097194  0.008003\n",
       "4     0.6  0.052711  0.295903\n",
       "...   ...       ...       ...\n",
       "2065  0.5  0.006399  0.335853\n",
       "2066  0.6  0.004545  0.562779\n",
       "2067  0.4  0.001553  0.758585\n",
       "2068  0.5  0.007616  0.036831\n",
       "2069  0.6  0.004324  0.565783\n",
       "\n",
       "[2070 rows x 3 columns]"
      ]
     },
     "execution_count": 165,
     "metadata": {},
     "output_type": "execute_result"
    }
   ],
   "source": [
    "pd.DataFrame(X) # We are transforming the X to dataframe because MinMaxScaler does changing the shape of dataframe"
   ]
  },
  {
   "cell_type": "code",
   "execution_count": 166,
   "metadata": {},
   "outputs": [],
   "source": [
    "X_train, X_test, y_train, y_test=train_test_split(X,y,test_size=0.2,random_state=13)"
   ]
  },
  {
   "cell_type": "code",
   "execution_count": 167,
   "metadata": {},
   "outputs": [],
   "source": [
    "model=Sequential()\n",
    "model.add(Dense(81, activation='relu'))\n",
    "model.add(Dense(40, activation='relu'))\n",
    "model.add(Dense(27, activation='relu'))\n",
    "model.add(Dense(19, activation='relu'))\n",
    "model.add(Dense(5, activation='relu'))\n",
    "model.add(Dense(3, activation='relu'))\n",
    "model.add(Dense(1))\n",
    "model.compile(optimizer='Adam', loss='mse')"
   ]
  },
  {
   "cell_type": "code",
   "execution_count": 168,
   "metadata": {},
   "outputs": [
    {
     "name": "stdout",
     "output_type": "stream",
     "text": [
      "Epoch 1/15\n",
      "166/166 [==============================] - 2s 5ms/step - loss: 52717194209.3413 - val_loss: 74359701504.0000\n",
      "Epoch 2/15\n",
      "166/166 [==============================] - 0s 1ms/step - loss: 42227103106.2994 - val_loss: 58964504576.0000\n",
      "Epoch 3/15\n",
      "166/166 [==============================] - 0s 1ms/step - loss: 37218140120.1437 - val_loss: 51783331840.0000\n",
      "Epoch 4/15\n",
      "166/166 [==============================] - 0s 1ms/step - loss: 37113624355.2575 - val_loss: 50330361856.0000\n",
      "Epoch 5/15\n",
      "166/166 [==============================] - 0s 1ms/step - loss: 29951319395.6407 - val_loss: 47871438848.0000\n",
      "Epoch 6/15\n",
      "166/166 [==============================] - 0s 1ms/step - loss: 30418267090.0120 - val_loss: 45627957248.0000\n",
      "Epoch 7/15\n",
      "166/166 [==============================] - 0s 1ms/step - loss: 31094224540.3593 - val_loss: 43014840320.0000\n",
      "Epoch 8/15\n",
      "166/166 [==============================] - 0s 1ms/step - loss: 27839676146.2036 - val_loss: 38655602688.0000\n",
      "Epoch 9/15\n",
      "166/166 [==============================] - 0s 1ms/step - loss: 24779783367.2814 - val_loss: 31032051712.0000\n",
      "Epoch 10/15\n",
      "166/166 [==============================] - 0s 1ms/step - loss: 17933214631.0898 - val_loss: 19084476416.0000\n",
      "Epoch 11/15\n",
      "166/166 [==============================] - 0s 1ms/step - loss: 11858374990.1796 - val_loss: 7803740160.0000\n",
      "Epoch 12/15\n",
      "166/166 [==============================] - 0s 1ms/step - loss: 5179142441.3892 - val_loss: 2075847424.0000\n",
      "Epoch 13/15\n",
      "166/166 [==============================] - 0s 1ms/step - loss: 1408766961.0539 - val_loss: 621709376.0000\n",
      "Epoch 14/15\n",
      "166/166 [==============================] - 0s 1ms/step - loss: 427348198.3234 - val_loss: 227067456.0000\n",
      "Epoch 15/15\n",
      "166/166 [==============================] - 0s 1ms/step - loss: 182342938.5389 - val_loss: 127474008.0000\n"
     ]
    },
    {
     "data": {
      "text/plain": [
       "<tensorflow.python.keras.callbacks.History at 0x29987488ca0>"
      ]
     },
     "execution_count": 168,
     "metadata": {},
     "output_type": "execute_result"
    }
   ],
   "source": [
    "model.fit(x=X_train, y=y_train, validation_data=(X_test, y_test), batch_size=10, epochs=15, verbose=1)\n"
   ]
  },
  {
   "cell_type": "code",
   "execution_count": 169,
   "metadata": {},
   "outputs": [
    {
     "name": "stdout",
     "output_type": "stream",
     "text": [
      "Model: \"sequential\"\n",
      "_________________________________________________________________\n",
      "Layer (type)                 Output Shape              Param #   \n",
      "=================================================================\n",
      "dense (Dense)                (None, 81)                324       \n",
      "_________________________________________________________________\n",
      "dense_1 (Dense)              (None, 40)                3280      \n",
      "_________________________________________________________________\n",
      "dense_2 (Dense)              (None, 27)                1107      \n",
      "_________________________________________________________________\n",
      "dense_3 (Dense)              (None, 19)                532       \n",
      "_________________________________________________________________\n",
      "dense_4 (Dense)              (None, 5)                 100       \n",
      "_________________________________________________________________\n",
      "dense_5 (Dense)              (None, 3)                 18        \n",
      "_________________________________________________________________\n",
      "dense_6 (Dense)              (None, 1)                 4         \n",
      "=================================================================\n",
      "Total params: 5,365\n",
      "Trainable params: 5,365\n",
      "Non-trainable params: 0\n",
      "_________________________________________________________________\n"
     ]
    }
   ],
   "source": [
    "model.summary()"
   ]
  },
  {
   "cell_type": "code",
   "execution_count": 170,
   "metadata": {},
   "outputs": [
    {
     "data": {
      "text/plain": [
       "<AxesSubplot:>"
      ]
     },
     "execution_count": 170,
     "metadata": {},
     "output_type": "execute_result"
    },
    {
     "data": {
      "image/png": "[encoded data removed]",
      "text/plain": [
       "<Figure size 864x576 with 1 Axes>"
      ]
     },
     "metadata": {
      "needs_background": "light"
     },
     "output_type": "display_data"
    }
   ],
   "source": [
    "loss_df = pd.DataFrame(model.history.history)\n",
    "loss_df.plot(figsize=(12, 8))"
   ]
  },
  {
   "cell_type": "code",
   "execution_count": 171,
   "metadata": {},
   "outputs": [],
   "source": [
    "pred = model.predict(X_test)"
   ]
  },
  {
   "cell_type": "code",
   "execution_count": 172,
   "metadata": {},
   "outputs": [
    {
     "data": {
      "text/plain": [
       "11290.438932614015"
      ]
     },
     "execution_count": 172,
     "metadata": {},
     "output_type": "execute_result"
    }
   ],
   "source": [
    "mean_squared_error(y_test, pred)**0.5"
   ]
  },
  {
   "cell_type": "code",
   "execution_count": 173,
   "metadata": {},
   "outputs": [
    {
     "data": {
      "text/plain": [
       "0.9976556331252799"
      ]
     },
     "execution_count": 173,
     "metadata": {},
     "output_type": "execute_result"
    }
   ],
   "source": [
    "r2_score(y_test, pred)"
   ]
  }
 ],
 "metadata": {
  "kernelspec": {
   "display_name": "Python 3",
   "language": "python",
   "name": "python3"
  },
  "language_info": {
   "codemirror_mode": {
    "name": "ipython",
    "version": 3
   },
   "file_extension": ".py",
   "mimetype": "text/x-python",
   "name": "python",
   "nbconvert_exporter": "python",
   "pygments_lexer": "ipython3",
   "version": "3.8.5"
  }
 },
 "nbformat": 4,
 "nbformat_minor": 4
}
